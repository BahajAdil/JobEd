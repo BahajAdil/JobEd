{
  "nbformat": 4,
  "nbformat_minor": 0,
  "metadata": {
    "colab": {
      "provenance": []
    },
    "kernelspec": {
      "name": "python3",
      "display_name": "Python 3"
    },
    "language_info": {
      "name": "python"
    },
    "widgets": {
      "application/vnd.jupyter.widget-state+json": {
        "c44ee5a7be374d5b822f55c3f99b5f21": {
          "model_module": "@jupyter-widgets/controls",
          "model_name": "HBoxModel",
          "model_module_version": "1.5.0",
          "state": {
            "_dom_classes": [],
            "_model_module": "@jupyter-widgets/controls",
            "_model_module_version": "1.5.0",
            "_model_name": "HBoxModel",
            "_view_count": null,
            "_view_module": "@jupyter-widgets/controls",
            "_view_module_version": "1.5.0",
            "_view_name": "HBoxView",
            "box_style": "",
            "children": [
              "IPY_MODEL_a0ac5c351f2148ee80ce7e6b5a89510b",
              "IPY_MODEL_5241defe922f403fa05a7a722e784cc8",
              "IPY_MODEL_b6d66d82b71a4a7eb6bef2fa49bcd8d0"
            ],
            "layout": "IPY_MODEL_d541d0ff47014d0eb39e2f899222ff0a"
          }
        },
        "a0ac5c351f2148ee80ce7e6b5a89510b": {
          "model_module": "@jupyter-widgets/controls",
          "model_name": "HTMLModel",
          "model_module_version": "1.5.0",
          "state": {
            "_dom_classes": [],
            "_model_module": "@jupyter-widgets/controls",
            "_model_module_version": "1.5.0",
            "_model_name": "HTMLModel",
            "_view_count": null,
            "_view_module": "@jupyter-widgets/controls",
            "_view_module_version": "1.5.0",
            "_view_name": "HTMLView",
            "description": "",
            "description_tooltip": null,
            "layout": "IPY_MODEL_d523377702fb4a9ba3baa417e5c93ff5",
            "placeholder": "​",
            "style": "IPY_MODEL_32acbceff7364ae3802acfd7827ce5b9",
            "value": "100%"
          }
        },
        "5241defe922f403fa05a7a722e784cc8": {
          "model_module": "@jupyter-widgets/controls",
          "model_name": "FloatProgressModel",
          "model_module_version": "1.5.0",
          "state": {
            "_dom_classes": [],
            "_model_module": "@jupyter-widgets/controls",
            "_model_module_version": "1.5.0",
            "_model_name": "FloatProgressModel",
            "_view_count": null,
            "_view_module": "@jupyter-widgets/controls",
            "_view_module_version": "1.5.0",
            "_view_name": "ProgressView",
            "bar_style": "success",
            "description": "",
            "description_tooltip": null,
            "layout": "IPY_MODEL_647f76d3082c4325838af64deea1bbab",
            "max": 39669,
            "min": 0,
            "orientation": "horizontal",
            "style": "IPY_MODEL_4d131f451c3349b1aa6fdc8fd4993618",
            "value": 39669
          }
        },
        "b6d66d82b71a4a7eb6bef2fa49bcd8d0": {
          "model_module": "@jupyter-widgets/controls",
          "model_name": "HTMLModel",
          "model_module_version": "1.5.0",
          "state": {
            "_dom_classes": [],
            "_model_module": "@jupyter-widgets/controls",
            "_model_module_version": "1.5.0",
            "_model_name": "HTMLModel",
            "_view_count": null,
            "_view_module": "@jupyter-widgets/controls",
            "_view_module_version": "1.5.0",
            "_view_name": "HTMLView",
            "description": "",
            "description_tooltip": null,
            "layout": "IPY_MODEL_7912ce573c624fa4a07ef4011a3df149",
            "placeholder": "​",
            "style": "IPY_MODEL_4c98432dbaf34ba5815dcd8a0b896fb7",
            "value": " 39669/39669 [00:31&lt;00:00, 1383.31it/s]"
          }
        },
        "d541d0ff47014d0eb39e2f899222ff0a": {
          "model_module": "@jupyter-widgets/base",
          "model_name": "LayoutModel",
          "model_module_version": "1.2.0",
          "state": {
            "_model_module": "@jupyter-widgets/base",
            "_model_module_version": "1.2.0",
            "_model_name": "LayoutModel",
            "_view_count": null,
            "_view_module": "@jupyter-widgets/base",
            "_view_module_version": "1.2.0",
            "_view_name": "LayoutView",
            "align_content": null,
            "align_items": null,
            "align_self": null,
            "border": null,
            "bottom": null,
            "display": null,
            "flex": null,
            "flex_flow": null,
            "grid_area": null,
            "grid_auto_columns": null,
            "grid_auto_flow": null,
            "grid_auto_rows": null,
            "grid_column": null,
            "grid_gap": null,
            "grid_row": null,
            "grid_template_areas": null,
            "grid_template_columns": null,
            "grid_template_rows": null,
            "height": null,
            "justify_content": null,
            "justify_items": null,
            "left": null,
            "margin": null,
            "max_height": null,
            "max_width": null,
            "min_height": null,
            "min_width": null,
            "object_fit": null,
            "object_position": null,
            "order": null,
            "overflow": null,
            "overflow_x": null,
            "overflow_y": null,
            "padding": null,
            "right": null,
            "top": null,
            "visibility": null,
            "width": null
          }
        },
        "d523377702fb4a9ba3baa417e5c93ff5": {
          "model_module": "@jupyter-widgets/base",
          "model_name": "LayoutModel",
          "model_module_version": "1.2.0",
          "state": {
            "_model_module": "@jupyter-widgets/base",
            "_model_module_version": "1.2.0",
            "_model_name": "LayoutModel",
            "_view_count": null,
            "_view_module": "@jupyter-widgets/base",
            "_view_module_version": "1.2.0",
            "_view_name": "LayoutView",
            "align_content": null,
            "align_items": null,
            "align_self": null,
            "border": null,
            "bottom": null,
            "display": null,
            "flex": null,
            "flex_flow": null,
            "grid_area": null,
            "grid_auto_columns": null,
            "grid_auto_flow": null,
            "grid_auto_rows": null,
            "grid_column": null,
            "grid_gap": null,
            "grid_row": null,
            "grid_template_areas": null,
            "grid_template_columns": null,
            "grid_template_rows": null,
            "height": null,
            "justify_content": null,
            "justify_items": null,
            "left": null,
            "margin": null,
            "max_height": null,
            "max_width": null,
            "min_height": null,
            "min_width": null,
            "object_fit": null,
            "object_position": null,
            "order": null,
            "overflow": null,
            "overflow_x": null,
            "overflow_y": null,
            "padding": null,
            "right": null,
            "top": null,
            "visibility": null,
            "width": null
          }
        },
        "32acbceff7364ae3802acfd7827ce5b9": {
          "model_module": "@jupyter-widgets/controls",
          "model_name": "DescriptionStyleModel",
          "model_module_version": "1.5.0",
          "state": {
            "_model_module": "@jupyter-widgets/controls",
            "_model_module_version": "1.5.0",
            "_model_name": "DescriptionStyleModel",
            "_view_count": null,
            "_view_module": "@jupyter-widgets/base",
            "_view_module_version": "1.2.0",
            "_view_name": "StyleView",
            "description_width": ""
          }
        },
        "647f76d3082c4325838af64deea1bbab": {
          "model_module": "@jupyter-widgets/base",
          "model_name": "LayoutModel",
          "model_module_version": "1.2.0",
          "state": {
            "_model_module": "@jupyter-widgets/base",
            "_model_module_version": "1.2.0",
            "_model_name": "LayoutModel",
            "_view_count": null,
            "_view_module": "@jupyter-widgets/base",
            "_view_module_version": "1.2.0",
            "_view_name": "LayoutView",
            "align_content": null,
            "align_items": null,
            "align_self": null,
            "border": null,
            "bottom": null,
            "display": null,
            "flex": null,
            "flex_flow": null,
            "grid_area": null,
            "grid_auto_columns": null,
            "grid_auto_flow": null,
            "grid_auto_rows": null,
            "grid_column": null,
            "grid_gap": null,
            "grid_row": null,
            "grid_template_areas": null,
            "grid_template_columns": null,
            "grid_template_rows": null,
            "height": null,
            "justify_content": null,
            "justify_items": null,
            "left": null,
            "margin": null,
            "max_height": null,
            "max_width": null,
            "min_height": null,
            "min_width": null,
            "object_fit": null,
            "object_position": null,
            "order": null,
            "overflow": null,
            "overflow_x": null,
            "overflow_y": null,
            "padding": null,
            "right": null,
            "top": null,
            "visibility": null,
            "width": null
          }
        },
        "4d131f451c3349b1aa6fdc8fd4993618": {
          "model_module": "@jupyter-widgets/controls",
          "model_name": "ProgressStyleModel",
          "model_module_version": "1.5.0",
          "state": {
            "_model_module": "@jupyter-widgets/controls",
            "_model_module_version": "1.5.0",
            "_model_name": "ProgressStyleModel",
            "_view_count": null,
            "_view_module": "@jupyter-widgets/base",
            "_view_module_version": "1.2.0",
            "_view_name": "StyleView",
            "bar_color": null,
            "description_width": ""
          }
        },
        "7912ce573c624fa4a07ef4011a3df149": {
          "model_module": "@jupyter-widgets/base",
          "model_name": "LayoutModel",
          "model_module_version": "1.2.0",
          "state": {
            "_model_module": "@jupyter-widgets/base",
            "_model_module_version": "1.2.0",
            "_model_name": "LayoutModel",
            "_view_count": null,
            "_view_module": "@jupyter-widgets/base",
            "_view_module_version": "1.2.0",
            "_view_name": "LayoutView",
            "align_content": null,
            "align_items": null,
            "align_self": null,
            "border": null,
            "bottom": null,
            "display": null,
            "flex": null,
            "flex_flow": null,
            "grid_area": null,
            "grid_auto_columns": null,
            "grid_auto_flow": null,
            "grid_auto_rows": null,
            "grid_column": null,
            "grid_gap": null,
            "grid_row": null,
            "grid_template_areas": null,
            "grid_template_columns": null,
            "grid_template_rows": null,
            "height": null,
            "justify_content": null,
            "justify_items": null,
            "left": null,
            "margin": null,
            "max_height": null,
            "max_width": null,
            "min_height": null,
            "min_width": null,
            "object_fit": null,
            "object_position": null,
            "order": null,
            "overflow": null,
            "overflow_x": null,
            "overflow_y": null,
            "padding": null,
            "right": null,
            "top": null,
            "visibility": null,
            "width": null
          }
        },
        "4c98432dbaf34ba5815dcd8a0b896fb7": {
          "model_module": "@jupyter-widgets/controls",
          "model_name": "DescriptionStyleModel",
          "model_module_version": "1.5.0",
          "state": {
            "_model_module": "@jupyter-widgets/controls",
            "_model_module_version": "1.5.0",
            "_model_name": "DescriptionStyleModel",
            "_view_count": null,
            "_view_module": "@jupyter-widgets/base",
            "_view_module_version": "1.2.0",
            "_view_name": "StyleView",
            "description_width": ""
          }
        }
      }
    }
  },
  "cells": [
    {
      "cell_type": "code",
      "execution_count": null,
      "metadata": {
        "id": "b5XR7U80mSVK"
      },
      "outputs": [],
      "source": [
        "import pandas as pd\n",
        "import networkx as nx\n",
        "from os.path import join\n",
        "import numpy as np\n",
        "from networkx.generators import intersection\n",
        "from tqdm.notebook import tqdm\n",
        "import matplotlib.pyplot as plt\n",
        "KG_PATH = ''"
      ]
    },
    {
      "cell_type": "code",
      "source": [
        "from google.colab import drive\n",
        "drive.mount('/content/drive')"
      ],
      "metadata": {
        "colab": {
          "base_uri": "https://localhost:8080/"
        },
        "id": "ss-dXl3nqJI7",
        "outputId": "c945bec3-08d8-432c-8bf1-e2122064457d"
      },
      "execution_count": null,
      "outputs": [
        {
          "output_type": "stream",
          "name": "stdout",
          "text": [
            "Mounted at /content/drive\n"
          ]
        }
      ]
    },
    {
      "cell_type": "code",
      "source": [
        "all_triples = pd.read_csv(join(KG_PATH, 'triples', 'kg_triples.csv'))"
      ],
      "metadata": {
        "id": "TmZiAemJV3Lm"
      },
      "execution_count": null,
      "outputs": []
    },
    {
      "cell_type": "code",
      "source": [
        "all_triples.head()"
      ],
      "metadata": {
        "colab": {
          "base_uri": "https://localhost:8080/",
          "height": 206
        },
        "id": "7tAWJHW6WG6w",
        "outputId": "62d3c771-0f3c-4f7b-d94e-c170c15812f1"
      },
      "execution_count": null,
      "outputs": [
        {
          "output_type": "execute_result",
          "data": {
            "text/plain": [
              "                              head              tail        rel   time_amin  \\\n",
              "0  coursera_--626KkxEeywagovoAKHOQ  hard_skills_7231  _provides  2005-01-01   \n",
              "1  coursera_-0BI9jXyEeWa2g6sjqf03Q  hard_skills_8402  _provides  2005-01-01   \n",
              "2  coursera_-0wI4W8lEeys9RJMWW48Yw  hard_skills_7085  _provides  2005-01-01   \n",
              "3  coursera_-1YwAnTLEeSjmyIAC0aXFg  hard_skills_8466  _provides  2005-01-01   \n",
              "4  coursera_-1cp1vgjEeyxiRKaoDccyw  hard_skills_7256  _provides  2005-01-01   \n",
              "\n",
              "    time_amax     proba  \n",
              "0  2005-01-01  0.026316  \n",
              "1  2005-01-01  0.001786  \n",
              "2  2005-01-01  0.013514  \n",
              "3  2005-01-01  0.010638  \n",
              "4  2005-01-01  0.021739  "
            ],
            "text/html": [
              "\n",
              "  <div id=\"df-87c9956f-f1b5-4d3c-8386-ffa969b966f2\">\n",
              "    <div class=\"colab-df-container\">\n",
              "      <div>\n",
              "<style scoped>\n",
              "    .dataframe tbody tr th:only-of-type {\n",
              "        vertical-align: middle;\n",
              "    }\n",
              "\n",
              "    .dataframe tbody tr th {\n",
              "        vertical-align: top;\n",
              "    }\n",
              "\n",
              "    .dataframe thead th {\n",
              "        text-align: right;\n",
              "    }\n",
              "</style>\n",
              "<table border=\"1\" class=\"dataframe\">\n",
              "  <thead>\n",
              "    <tr style=\"text-align: right;\">\n",
              "      <th></th>\n",
              "      <th>head</th>\n",
              "      <th>tail</th>\n",
              "      <th>rel</th>\n",
              "      <th>time_amin</th>\n",
              "      <th>time_amax</th>\n",
              "      <th>proba</th>\n",
              "    </tr>\n",
              "  </thead>\n",
              "  <tbody>\n",
              "    <tr>\n",
              "      <th>0</th>\n",
              "      <td>coursera_--626KkxEeywagovoAKHOQ</td>\n",
              "      <td>hard_skills_7231</td>\n",
              "      <td>_provides</td>\n",
              "      <td>2005-01-01</td>\n",
              "      <td>2005-01-01</td>\n",
              "      <td>0.026316</td>\n",
              "    </tr>\n",
              "    <tr>\n",
              "      <th>1</th>\n",
              "      <td>coursera_-0BI9jXyEeWa2g6sjqf03Q</td>\n",
              "      <td>hard_skills_8402</td>\n",
              "      <td>_provides</td>\n",
              "      <td>2005-01-01</td>\n",
              "      <td>2005-01-01</td>\n",
              "      <td>0.001786</td>\n",
              "    </tr>\n",
              "    <tr>\n",
              "      <th>2</th>\n",
              "      <td>coursera_-0wI4W8lEeys9RJMWW48Yw</td>\n",
              "      <td>hard_skills_7085</td>\n",
              "      <td>_provides</td>\n",
              "      <td>2005-01-01</td>\n",
              "      <td>2005-01-01</td>\n",
              "      <td>0.013514</td>\n",
              "    </tr>\n",
              "    <tr>\n",
              "      <th>3</th>\n",
              "      <td>coursera_-1YwAnTLEeSjmyIAC0aXFg</td>\n",
              "      <td>hard_skills_8466</td>\n",
              "      <td>_provides</td>\n",
              "      <td>2005-01-01</td>\n",
              "      <td>2005-01-01</td>\n",
              "      <td>0.010638</td>\n",
              "    </tr>\n",
              "    <tr>\n",
              "      <th>4</th>\n",
              "      <td>coursera_-1cp1vgjEeyxiRKaoDccyw</td>\n",
              "      <td>hard_skills_7256</td>\n",
              "      <td>_provides</td>\n",
              "      <td>2005-01-01</td>\n",
              "      <td>2005-01-01</td>\n",
              "      <td>0.021739</td>\n",
              "    </tr>\n",
              "  </tbody>\n",
              "</table>\n",
              "</div>\n",
              "      <button class=\"colab-df-convert\" onclick=\"convertToInteractive('df-87c9956f-f1b5-4d3c-8386-ffa969b966f2')\"\n",
              "              title=\"Convert this dataframe to an interactive table.\"\n",
              "              style=\"display:none;\">\n",
              "        \n",
              "  <svg xmlns=\"http://www.w3.org/2000/svg\" height=\"24px\"viewBox=\"0 0 24 24\"\n",
              "       width=\"24px\">\n",
              "    <path d=\"M0 0h24v24H0V0z\" fill=\"none\"/>\n",
              "    <path d=\"M18.56 5.44l.94 2.06.94-2.06 2.06-.94-2.06-.94-.94-2.06-.94 2.06-2.06.94zm-11 1L8.5 8.5l.94-2.06 2.06-.94-2.06-.94L8.5 2.5l-.94 2.06-2.06.94zm10 10l.94 2.06.94-2.06 2.06-.94-2.06-.94-.94-2.06-.94 2.06-2.06.94z\"/><path d=\"M17.41 7.96l-1.37-1.37c-.4-.4-.92-.59-1.43-.59-.52 0-1.04.2-1.43.59L10.3 9.45l-7.72 7.72c-.78.78-.78 2.05 0 2.83L4 21.41c.39.39.9.59 1.41.59.51 0 1.02-.2 1.41-.59l7.78-7.78 2.81-2.81c.8-.78.8-2.07 0-2.86zM5.41 20L4 18.59l7.72-7.72 1.47 1.35L5.41 20z\"/>\n",
              "  </svg>\n",
              "      </button>\n",
              "      \n",
              "  <style>\n",
              "    .colab-df-container {\n",
              "      display:flex;\n",
              "      flex-wrap:wrap;\n",
              "      gap: 12px;\n",
              "    }\n",
              "\n",
              "    .colab-df-convert {\n",
              "      background-color: #E8F0FE;\n",
              "      border: none;\n",
              "      border-radius: 50%;\n",
              "      cursor: pointer;\n",
              "      display: none;\n",
              "      fill: #1967D2;\n",
              "      height: 32px;\n",
              "      padding: 0 0 0 0;\n",
              "      width: 32px;\n",
              "    }\n",
              "\n",
              "    .colab-df-convert:hover {\n",
              "      background-color: #E2EBFA;\n",
              "      box-shadow: 0px 1px 2px rgba(60, 64, 67, 0.3), 0px 1px 3px 1px rgba(60, 64, 67, 0.15);\n",
              "      fill: #174EA6;\n",
              "    }\n",
              "\n",
              "    [theme=dark] .colab-df-convert {\n",
              "      background-color: #3B4455;\n",
              "      fill: #D2E3FC;\n",
              "    }\n",
              "\n",
              "    [theme=dark] .colab-df-convert:hover {\n",
              "      background-color: #434B5C;\n",
              "      box-shadow: 0px 1px 3px 1px rgba(0, 0, 0, 0.15);\n",
              "      filter: drop-shadow(0px 1px 2px rgba(0, 0, 0, 0.3));\n",
              "      fill: #FFFFFF;\n",
              "    }\n",
              "  </style>\n",
              "\n",
              "      <script>\n",
              "        const buttonEl =\n",
              "          document.querySelector('#df-87c9956f-f1b5-4d3c-8386-ffa969b966f2 button.colab-df-convert');\n",
              "        buttonEl.style.display =\n",
              "          google.colab.kernel.accessAllowed ? 'block' : 'none';\n",
              "\n",
              "        async function convertToInteractive(key) {\n",
              "          const element = document.querySelector('#df-87c9956f-f1b5-4d3c-8386-ffa969b966f2');\n",
              "          const dataTable =\n",
              "            await google.colab.kernel.invokeFunction('convertToInteractive',\n",
              "                                                     [key], {});\n",
              "          if (!dataTable) return;\n",
              "\n",
              "          const docLinkHtml = 'Like what you see? Visit the ' +\n",
              "            '<a target=\"_blank\" href=https://colab.research.google.com/notebooks/data_table.ipynb>data table notebook</a>'\n",
              "            + ' to learn more about interactive tables.';\n",
              "          element.innerHTML = '';\n",
              "          dataTable['output_type'] = 'display_data';\n",
              "          await google.colab.output.renderOutput(dataTable, element);\n",
              "          const docLink = document.createElement('div');\n",
              "          docLink.innerHTML = docLinkHtml;\n",
              "          element.appendChild(docLink);\n",
              "        }\n",
              "      </script>\n",
              "    </div>\n",
              "  </div>\n",
              "  "
            ]
          },
          "metadata": {},
          "execution_count": 4
        }
      ]
    },
    {
      "cell_type": "code",
      "source": [
        "all_triples['head'].str.rsplit('_', 0).str[0].unique()"
      ],
      "metadata": {
        "colab": {
          "base_uri": "https://localhost:8080/"
        },
        "id": "CRia8TeLOoWw",
        "outputId": "fd96c9b9-8b65-454e-8e43-0fed05eb3671"
      },
      "execution_count": null,
      "outputs": [
        {
          "output_type": "execute_result",
          "data": {
            "text/plain": [
              "array(['coursera', 'function', 'hard', 'job', 'recruiters', 'soft'],\n",
              "      dtype=object)"
            ]
          },
          "metadata": {},
          "execution_count": 5
        }
      ]
    },
    {
      "cell_type": "code",
      "source": [
        "def type_map(ent_name_):\n",
        "    all_types = ['recruiters', 'sector', 'soft_skills', 'hard_skills', 'locations', 'function', 'coursera', 'job_titles']\n",
        "    for i in all_types:\n",
        "      if ent_name_.startswith(i):\n",
        "        return i\n",
        "\n",
        "def get_types(df_):\n",
        "    df_['head_type'] = df_['head'].map(type_map)\n",
        "    df_['tail_type'] = df_['tail'].map(type_map)\n",
        "    return df_"
      ],
      "metadata": {
        "id": "o5lJNZjGPohl"
      },
      "execution_count": null,
      "outputs": []
    },
    {
      "cell_type": "code",
      "source": [
        "typed_df = get_types(df_ = all_triples)"
      ],
      "metadata": {
        "id": "VJ4xT7HlQh7z"
      },
      "execution_count": null,
      "outputs": []
    },
    {
      "cell_type": "code",
      "source": [
        "typed_df"
      ],
      "metadata": {
        "colab": {
          "base_uri": "https://localhost:8080/",
          "height": 424
        },
        "id": "h3g5YrHWQqCb",
        "outputId": "b00cba51-cc71-4a27-ec86-80a4e531f4ff"
      },
      "execution_count": null,
      "outputs": [
        {
          "output_type": "execute_result",
          "data": {
            "text/plain": [
              "                                    head              tail        rel  \\\n",
              "0        coursera_--626KkxEeywagovoAKHOQ  hard_skills_7231  _provides   \n",
              "1        coursera_-0BI9jXyEeWa2g6sjqf03Q  hard_skills_8402  _provides   \n",
              "2        coursera_-0wI4W8lEeys9RJMWW48Yw  hard_skills_7085  _provides   \n",
              "3        coursera_-1YwAnTLEeSjmyIAC0aXFg  hard_skills_8466  _provides   \n",
              "4        coursera_-1cp1vgjEeyxiRKaoDccyw  hard_skills_7256  _provides   \n",
              "...                                  ...               ...        ...   \n",
              "3063261  coursera_uJzic8tGEeq-exJhs1kTLQ   job_titles_9999    _favors   \n",
              "3063262  coursera_vTfefpnKEeqXRg45DDUIXQ   job_titles_9999    _favors   \n",
              "3063263  coursera_vdwtpp1hEeW4xRJkiwxnYw   job_titles_9999    _favors   \n",
              "3063264  coursera_wI5KCyMjEeu-rg7jvs9-1w   job_titles_9999    _favors   \n",
              "3063265  coursera_xDphHqjlEeywagovoAKHOQ   job_titles_9999    _favors   \n",
              "\n",
              "          time_amin   time_amax     proba head_type    tail_type  \n",
              "0        2005-01-01  2005-01-01  0.026316  coursera  hard_skills  \n",
              "1        2005-01-01  2005-01-01  0.001786  coursera  hard_skills  \n",
              "2        2005-01-01  2005-01-01  0.013514  coursera  hard_skills  \n",
              "3        2005-01-01  2005-01-01  0.010638  coursera  hard_skills  \n",
              "4        2005-01-01  2005-01-01  0.021739  coursera  hard_skills  \n",
              "...             ...         ...       ...       ...          ...  \n",
              "3063261  2013-04-18  2022-07-04  0.000091  coursera   job_titles  \n",
              "3063262  2013-04-18  2022-07-04  0.000091  coursera   job_titles  \n",
              "3063263  2013-11-07  2013-11-07  0.000106  coursera   job_titles  \n",
              "3063264  2013-11-07  2013-11-07  0.000106  coursera   job_titles  \n",
              "3063265  2013-04-18  2022-07-04  0.000091  coursera   job_titles  \n",
              "\n",
              "[3063266 rows x 8 columns]"
            ],
            "text/html": [
              "\n",
              "  <div id=\"df-777e542a-ec68-4103-9661-5d6268527a4e\">\n",
              "    <div class=\"colab-df-container\">\n",
              "      <div>\n",
              "<style scoped>\n",
              "    .dataframe tbody tr th:only-of-type {\n",
              "        vertical-align: middle;\n",
              "    }\n",
              "\n",
              "    .dataframe tbody tr th {\n",
              "        vertical-align: top;\n",
              "    }\n",
              "\n",
              "    .dataframe thead th {\n",
              "        text-align: right;\n",
              "    }\n",
              "</style>\n",
              "<table border=\"1\" class=\"dataframe\">\n",
              "  <thead>\n",
              "    <tr style=\"text-align: right;\">\n",
              "      <th></th>\n",
              "      <th>head</th>\n",
              "      <th>tail</th>\n",
              "      <th>rel</th>\n",
              "      <th>time_amin</th>\n",
              "      <th>time_amax</th>\n",
              "      <th>proba</th>\n",
              "      <th>head_type</th>\n",
              "      <th>tail_type</th>\n",
              "    </tr>\n",
              "  </thead>\n",
              "  <tbody>\n",
              "    <tr>\n",
              "      <th>0</th>\n",
              "      <td>coursera_--626KkxEeywagovoAKHOQ</td>\n",
              "      <td>hard_skills_7231</td>\n",
              "      <td>_provides</td>\n",
              "      <td>2005-01-01</td>\n",
              "      <td>2005-01-01</td>\n",
              "      <td>0.026316</td>\n",
              "      <td>coursera</td>\n",
              "      <td>hard_skills</td>\n",
              "    </tr>\n",
              "    <tr>\n",
              "      <th>1</th>\n",
              "      <td>coursera_-0BI9jXyEeWa2g6sjqf03Q</td>\n",
              "      <td>hard_skills_8402</td>\n",
              "      <td>_provides</td>\n",
              "      <td>2005-01-01</td>\n",
              "      <td>2005-01-01</td>\n",
              "      <td>0.001786</td>\n",
              "      <td>coursera</td>\n",
              "      <td>hard_skills</td>\n",
              "    </tr>\n",
              "    <tr>\n",
              "      <th>2</th>\n",
              "      <td>coursera_-0wI4W8lEeys9RJMWW48Yw</td>\n",
              "      <td>hard_skills_7085</td>\n",
              "      <td>_provides</td>\n",
              "      <td>2005-01-01</td>\n",
              "      <td>2005-01-01</td>\n",
              "      <td>0.013514</td>\n",
              "      <td>coursera</td>\n",
              "      <td>hard_skills</td>\n",
              "    </tr>\n",
              "    <tr>\n",
              "      <th>3</th>\n",
              "      <td>coursera_-1YwAnTLEeSjmyIAC0aXFg</td>\n",
              "      <td>hard_skills_8466</td>\n",
              "      <td>_provides</td>\n",
              "      <td>2005-01-01</td>\n",
              "      <td>2005-01-01</td>\n",
              "      <td>0.010638</td>\n",
              "      <td>coursera</td>\n",
              "      <td>hard_skills</td>\n",
              "    </tr>\n",
              "    <tr>\n",
              "      <th>4</th>\n",
              "      <td>coursera_-1cp1vgjEeyxiRKaoDccyw</td>\n",
              "      <td>hard_skills_7256</td>\n",
              "      <td>_provides</td>\n",
              "      <td>2005-01-01</td>\n",
              "      <td>2005-01-01</td>\n",
              "      <td>0.021739</td>\n",
              "      <td>coursera</td>\n",
              "      <td>hard_skills</td>\n",
              "    </tr>\n",
              "    <tr>\n",
              "      <th>...</th>\n",
              "      <td>...</td>\n",
              "      <td>...</td>\n",
              "      <td>...</td>\n",
              "      <td>...</td>\n",
              "      <td>...</td>\n",
              "      <td>...</td>\n",
              "      <td>...</td>\n",
              "      <td>...</td>\n",
              "    </tr>\n",
              "    <tr>\n",
              "      <th>3063261</th>\n",
              "      <td>coursera_uJzic8tGEeq-exJhs1kTLQ</td>\n",
              "      <td>job_titles_9999</td>\n",
              "      <td>_favors</td>\n",
              "      <td>2013-04-18</td>\n",
              "      <td>2022-07-04</td>\n",
              "      <td>0.000091</td>\n",
              "      <td>coursera</td>\n",
              "      <td>job_titles</td>\n",
              "    </tr>\n",
              "    <tr>\n",
              "      <th>3063262</th>\n",
              "      <td>coursera_vTfefpnKEeqXRg45DDUIXQ</td>\n",
              "      <td>job_titles_9999</td>\n",
              "      <td>_favors</td>\n",
              "      <td>2013-04-18</td>\n",
              "      <td>2022-07-04</td>\n",
              "      <td>0.000091</td>\n",
              "      <td>coursera</td>\n",
              "      <td>job_titles</td>\n",
              "    </tr>\n",
              "    <tr>\n",
              "      <th>3063263</th>\n",
              "      <td>coursera_vdwtpp1hEeW4xRJkiwxnYw</td>\n",
              "      <td>job_titles_9999</td>\n",
              "      <td>_favors</td>\n",
              "      <td>2013-11-07</td>\n",
              "      <td>2013-11-07</td>\n",
              "      <td>0.000106</td>\n",
              "      <td>coursera</td>\n",
              "      <td>job_titles</td>\n",
              "    </tr>\n",
              "    <tr>\n",
              "      <th>3063264</th>\n",
              "      <td>coursera_wI5KCyMjEeu-rg7jvs9-1w</td>\n",
              "      <td>job_titles_9999</td>\n",
              "      <td>_favors</td>\n",
              "      <td>2013-11-07</td>\n",
              "      <td>2013-11-07</td>\n",
              "      <td>0.000106</td>\n",
              "      <td>coursera</td>\n",
              "      <td>job_titles</td>\n",
              "    </tr>\n",
              "    <tr>\n",
              "      <th>3063265</th>\n",
              "      <td>coursera_xDphHqjlEeywagovoAKHOQ</td>\n",
              "      <td>job_titles_9999</td>\n",
              "      <td>_favors</td>\n",
              "      <td>2013-04-18</td>\n",
              "      <td>2022-07-04</td>\n",
              "      <td>0.000091</td>\n",
              "      <td>coursera</td>\n",
              "      <td>job_titles</td>\n",
              "    </tr>\n",
              "  </tbody>\n",
              "</table>\n",
              "<p>3063266 rows × 8 columns</p>\n",
              "</div>\n",
              "      <button class=\"colab-df-convert\" onclick=\"convertToInteractive('df-777e542a-ec68-4103-9661-5d6268527a4e')\"\n",
              "              title=\"Convert this dataframe to an interactive table.\"\n",
              "              style=\"display:none;\">\n",
              "        \n",
              "  <svg xmlns=\"http://www.w3.org/2000/svg\" height=\"24px\"viewBox=\"0 0 24 24\"\n",
              "       width=\"24px\">\n",
              "    <path d=\"M0 0h24v24H0V0z\" fill=\"none\"/>\n",
              "    <path d=\"M18.56 5.44l.94 2.06.94-2.06 2.06-.94-2.06-.94-.94-2.06-.94 2.06-2.06.94zm-11 1L8.5 8.5l.94-2.06 2.06-.94-2.06-.94L8.5 2.5l-.94 2.06-2.06.94zm10 10l.94 2.06.94-2.06 2.06-.94-2.06-.94-.94-2.06-.94 2.06-2.06.94z\"/><path d=\"M17.41 7.96l-1.37-1.37c-.4-.4-.92-.59-1.43-.59-.52 0-1.04.2-1.43.59L10.3 9.45l-7.72 7.72c-.78.78-.78 2.05 0 2.83L4 21.41c.39.39.9.59 1.41.59.51 0 1.02-.2 1.41-.59l7.78-7.78 2.81-2.81c.8-.78.8-2.07 0-2.86zM5.41 20L4 18.59l7.72-7.72 1.47 1.35L5.41 20z\"/>\n",
              "  </svg>\n",
              "      </button>\n",
              "      \n",
              "  <style>\n",
              "    .colab-df-container {\n",
              "      display:flex;\n",
              "      flex-wrap:wrap;\n",
              "      gap: 12px;\n",
              "    }\n",
              "\n",
              "    .colab-df-convert {\n",
              "      background-color: #E8F0FE;\n",
              "      border: none;\n",
              "      border-radius: 50%;\n",
              "      cursor: pointer;\n",
              "      display: none;\n",
              "      fill: #1967D2;\n",
              "      height: 32px;\n",
              "      padding: 0 0 0 0;\n",
              "      width: 32px;\n",
              "    }\n",
              "\n",
              "    .colab-df-convert:hover {\n",
              "      background-color: #E2EBFA;\n",
              "      box-shadow: 0px 1px 2px rgba(60, 64, 67, 0.3), 0px 1px 3px 1px rgba(60, 64, 67, 0.15);\n",
              "      fill: #174EA6;\n",
              "    }\n",
              "\n",
              "    [theme=dark] .colab-df-convert {\n",
              "      background-color: #3B4455;\n",
              "      fill: #D2E3FC;\n",
              "    }\n",
              "\n",
              "    [theme=dark] .colab-df-convert:hover {\n",
              "      background-color: #434B5C;\n",
              "      box-shadow: 0px 1px 3px 1px rgba(0, 0, 0, 0.15);\n",
              "      filter: drop-shadow(0px 1px 2px rgba(0, 0, 0, 0.3));\n",
              "      fill: #FFFFFF;\n",
              "    }\n",
              "  </style>\n",
              "\n",
              "      <script>\n",
              "        const buttonEl =\n",
              "          document.querySelector('#df-777e542a-ec68-4103-9661-5d6268527a4e button.colab-df-convert');\n",
              "        buttonEl.style.display =\n",
              "          google.colab.kernel.accessAllowed ? 'block' : 'none';\n",
              "\n",
              "        async function convertToInteractive(key) {\n",
              "          const element = document.querySelector('#df-777e542a-ec68-4103-9661-5d6268527a4e');\n",
              "          const dataTable =\n",
              "            await google.colab.kernel.invokeFunction('convertToInteractive',\n",
              "                                                     [key], {});\n",
              "          if (!dataTable) return;\n",
              "\n",
              "          const docLinkHtml = 'Like what you see? Visit the ' +\n",
              "            '<a target=\"_blank\" href=https://colab.research.google.com/notebooks/data_table.ipynb>data table notebook</a>'\n",
              "            + ' to learn more about interactive tables.';\n",
              "          element.innerHTML = '';\n",
              "          dataTable['output_type'] = 'display_data';\n",
              "          await google.colab.output.renderOutput(dataTable, element);\n",
              "          const docLink = document.createElement('div');\n",
              "          docLink.innerHTML = docLinkHtml;\n",
              "          element.appendChild(docLink);\n",
              "        }\n",
              "      </script>\n",
              "    </div>\n",
              "  </div>\n",
              "  "
            ]
          },
          "metadata": {},
          "execution_count": 8
        }
      ]
    },
    {
      "cell_type": "code",
      "source": [
        "typed_df['head_type'].unique()"
      ],
      "metadata": {
        "colab": {
          "base_uri": "https://localhost:8080/"
        },
        "id": "wQ0MAR-TQ1Fb",
        "outputId": "ade3f97c-3331-4d05-cdd9-2725d489ff34"
      },
      "execution_count": null,
      "outputs": [
        {
          "output_type": "execute_result",
          "data": {
            "text/plain": [
              "array(['coursera', 'function', 'hard_skills', 'job_titles', 'recruiters',\n",
              "       'soft_skills'], dtype=object)"
            ]
          },
          "metadata": {},
          "execution_count": 9
        }
      ]
    },
    {
      "cell_type": "code",
      "source": [
        "typed_df['tail_type'].unique()"
      ],
      "metadata": {
        "colab": {
          "base_uri": "https://localhost:8080/"
        },
        "id": "vdvWA5aSQ3w4",
        "outputId": "47771a34-36ef-4a86-a3bf-6d241c908096"
      },
      "execution_count": null,
      "outputs": [
        {
          "output_type": "execute_result",
          "data": {
            "text/plain": [
              "array(['hard_skills', 'sector', 'job_titles', 'soft_skills', 'coursera',\n",
              "       'function', 'locations', 'recruiters'], dtype=object)"
            ]
          },
          "metadata": {},
          "execution_count": 10
        }
      ]
    },
    {
      "cell_type": "code",
      "source": [
        "# job_titles: recruiters, sector, soft_skills, hard_skills, locations, function, coursera"
      ],
      "metadata": {
        "id": "DnZh_6jJXKDN"
      },
      "execution_count": null,
      "outputs": []
    },
    {
      "cell_type": "code",
      "source": [
        "def property_completeness(all_triples):\n",
        "    all_types = ['recruiters', 'sector', 'soft_skills', 'hard_skills', 'locations', 'function', 'coursera']\n",
        "    grouped = all_triples.loc[all_triples['head'].str.startswith('job_titles', na=False)].groupby(['head'])\n",
        "    cnt = 0\n",
        "    sum_ = 0\n",
        "    for name, group in tqdm(grouped):\n",
        "        # print(group)\n",
        "        # print(group['tail'].str.rsplit('_', 1).str[0])\n",
        "        proertyset = set(list(group['tail'].str.rsplit('_', 1).str[0])).intersection(set(all_types))\n",
        "        sum_ += (len(proertyset)/len(all_types))\n",
        "        cnt += 1\n",
        "    # print(sum_/cnt)\n",
        "        # break\n",
        "    return sum_/cnt\n",
        "def schema_completeness(all_triples):\n",
        "    all_types = ['recruiters', 'sector', 'soft_skills', 'hard_skills', 'locations', 'function', 'coursera']\n",
        "    df_ = all_triples.loc[all_triples['head_type'].isin(['job_titles'])]\n",
        "    x = list((df_.groupby('tail').count()/df_.shape[0])['head'])\n",
        "    plt.hist(x)\n",
        "    plt.show()  \n",
        "    return \n",
        "    # for i in tqdm(list(df_['tail'])):\n",
        "    #     property_completness[i] = df_[df_['tail'] == i].shape[0]/df_.shape[0]\n",
        "    # return property_completness\n",
        "    #     # break"
      ],
      "metadata": {
        "id": "_j0V0cs-X_3X"
      },
      "execution_count": null,
      "outputs": []
    },
    {
      "cell_type": "code",
      "source": [
        "property_completeness(all_triples = all_triples)"
      ],
      "metadata": {
        "colab": {
          "base_uri": "https://localhost:8080/",
          "height": 66,
          "referenced_widgets": [
            "c44ee5a7be374d5b822f55c3f99b5f21",
            "a0ac5c351f2148ee80ce7e6b5a89510b",
            "5241defe922f403fa05a7a722e784cc8",
            "b6d66d82b71a4a7eb6bef2fa49bcd8d0",
            "d541d0ff47014d0eb39e2f899222ff0a",
            "d523377702fb4a9ba3baa417e5c93ff5",
            "32acbceff7364ae3802acfd7827ce5b9",
            "647f76d3082c4325838af64deea1bbab",
            "4d131f451c3349b1aa6fdc8fd4993618",
            "7912ce573c624fa4a07ef4011a3df149",
            "4c98432dbaf34ba5815dcd8a0b896fb7"
          ]
        },
        "id": "C6xf0DE0ZG12",
        "outputId": "57de4c10-78c1-4400-daa6-9855f84ec735"
      },
      "execution_count": null,
      "outputs": [
        {
          "output_type": "display_data",
          "data": {
            "text/plain": [
              "  0%|          | 0/39669 [00:00<?, ?it/s]"
            ],
            "application/vnd.jupyter.widget-view+json": {
              "version_major": 2,
              "version_minor": 0,
              "model_id": "c44ee5a7be374d5b822f55c3f99b5f21"
            }
          },
          "metadata": {}
        },
        {
          "output_type": "stream",
          "name": "stdout",
          "text": [
            "0.7538524144436918\n"
          ]
        }
      ]
    },
    {
      "cell_type": "code",
      "source": [
        "schema_completeness(all_triples = all_triples)"
      ],
      "metadata": {
        "id": "xfAfpxLsZJk9",
        "colab": {
          "base_uri": "https://localhost:8080/",
          "height": 269
        },
        "outputId": "07f37ff9-dba0-4233-d0d5-765f838b6ab1"
      },
      "execution_count": null,
      "outputs": [
        {
          "output_type": "display_data",
          "data": {
            "text/plain": [
              "<Figure size 432x288 with 1 Axes>"
            ],
            "image/png": "[encoded data removed]"
          },
          "metadata": {
            "needs_background": "light"
          }
        }
      ]
    },
    {
      "cell_type": "code",
      "source": [],
      "metadata": {
        "id": "E6vTCyleSn71"
      },
      "execution_count": null,
      "outputs": []
    }
  ]
}