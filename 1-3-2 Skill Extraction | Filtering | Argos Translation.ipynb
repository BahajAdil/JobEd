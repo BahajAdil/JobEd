{
 "cells": [
  {
   "cell_type": "code",
   "execution_count": 5,
   "metadata": {
    "colab": {
     "base_uri": "https://localhost:8080/"
    },
    "id": "UCZwiLjFdIpJ",
    "outputId": "04d9d806-6731-41c7-cecc-c44abcaad0fb"
   },
   "outputs": [
    {
     "name": "stderr",
     "output_type": "stream",
     "text": [
      "[nltk_data] Downloading package stopwords to /home/vortex/nltk_data...\n",
      "[nltk_data]   Package stopwords is already up-to-date!\n",
      "[nltk_data] Downloading package wordnet to /home/vortex/nltk_data...\n",
      "[nltk_data]   Package wordnet is already up-to-date!\n",
      "[nltk_data] Downloading package omw-1.4 to /home/vortex/nltk_data...\n",
      "[nltk_data]   Package omw-1.4 is already up-to-date!\n"
     ]
    }
   ],
   "source": [
    "import spacy\n",
    "from spacy.pipeline import EntityRuler\n",
    "from spacy.lang.en import English\n",
    "from spacy.tokens import Doc\n",
    "\n",
    "#gensim\n",
    "import gensim\n",
    "from gensim import corpora\n",
    "\n",
    "#Visualization\n",
    "from spacy import displacy\n",
    "#import pyLDAvis.gensim_models\n",
    "#from wordcloud import WordCloud\n",
    "import plotly.express as px\n",
    "import matplotlib.pyplot as plt\n",
    "\n",
    "#Data loading/ Data manipulation\n",
    "import pandas as pd\n",
    "import numpy as np\n",
    "import json\n",
    "import jsonlines\n",
    "from collections import Counter\n",
    "from tqdm.notebook import tqdm\n",
    "import gc\n",
    "\n",
    "#nltk\n",
    "import re\n",
    "import nltk\n",
    "from nltk.corpus import stopwords\n",
    "from nltk.stem import WordNetLemmatizer\n",
    "nltk.download(['stopwords','wordnet', 'omw-1.4'])\n",
    "\n",
    "#warning\n",
    "import warnings \n",
    "#from PyPDF2 import PdfFileReader\n",
    "from os.path import join\n",
    "from tqdm.notebook import tqdm\n",
    "import os\n",
    "import argostranslate.package\n",
    "import argostranslate.translate\n",
    "\n",
    "tqdm.pandas()\n",
    "\n",
    "warnings.filterwarnings('ignore')\n",
    "#DATA_REK = 'Data'\n",
    "#PRO_FILES = '/content/drive/MyDrive/PhD/Yousra_Data'\n",
    "DATA_FILES = 'Data/SkillNERV2'\n",
    "\n",
    "DATA_REK = 'Data/Rekrute'\n",
    "\n",
    "ACC_DIR = 'data/transformed_data/acceptability'\n",
    "SKILL_OUT = 'data/transformed_data/extracted_skills'\n"
   ]
  },
  {
   "cell_type": "code",
   "execution_count": 6,
   "metadata": {
    "colab": {
     "base_uri": "https://localhost:8080/"
    },
    "id": "NJ0hRgpZKDM8",
    "outputId": "4f8c5a53-2ffd-4bca-ec0d-62e420220620"
   },
   "outputs": [],
   "source": [
    "# from google.colab import drive\n",
    "# drive.mount('/content/drive')"
   ]
  },
  {
   "cell_type": "markdown",
   "metadata": {
    "id": "HhEGURXxgaEe"
   },
   "source": [
    "## Sentence Translation"
   ]
  },
  {
   "cell_type": "code",
   "execution_count": 7,
   "metadata": {
    "id": "RV2gHw72e39l"
   },
   "outputs": [],
   "source": [
    "def write_json_lines(file_name,dict_data):\n",
    "    json_string = json.dumps(dict_data)\n",
    "    with open(file_name, 'a') as f:\n",
    "        f.write(json_string+\"\\n\")\n",
    "        \n",
    "def read_json_lines(file_name):\n",
    "    lines = []\n",
    "    with open(file_name) as file_in:\n",
    "        for line in file_in:\n",
    "            lines.append(json.loads(line))\n",
    "    return lines"
   ]
  },
  {
   "cell_type": "code",
   "execution_count": 8,
   "metadata": {
    "id": "S7SiHTmlJNgY"
   },
   "outputs": [],
   "source": [
    "from_code = \"fr\"\n",
    "to_code = \"en\"\n",
    "\n",
    "# Download and install Argos Translate package\n",
    "argostranslate.package.update_package_index()\n",
    "available_packages = argostranslate.package.get_available_packages()\n",
    "package_to_install = next(\n",
    "    filter(\n",
    "        lambda x: x.from_code == from_code and x.to_code == to_code, available_packages\n",
    "    )\n",
    ")\n",
    "\n",
    "header_written = False\n",
    "argostranslate.package.install_from_path(package_to_install.download())"
   ]
  },
  {
   "cell_type": "markdown",
   "metadata": {
    "id": "nMTDxIZiJNga"
   },
   "source": [
    "### Translating skills extracted using ESCO patterns"
   ]
  },
  {
   "cell_type": "code",
   "execution_count": 9,
   "metadata": {
    "id": "Bq2S1KXnS12-"
   },
   "outputs": [],
   "source": [
    "#df.to_csv(join(SKILL_OUT, \"fr_extracted_skills.csv\"), index=False)"
   ]
  },
  {
   "cell_type": "code",
   "execution_count": 10,
   "metadata": {
    "id": "7e16ZJnlVlaj"
   },
   "outputs": [],
   "source": [
    "#df = pd.read_csv(join(SKILL_OUT, 'fr_extracted_skills.csv'))"
   ]
  },
  {
   "cell_type": "code",
   "execution_count": 11,
   "metadata": {
    "id": "YuWo4uCFOjVe"
   },
   "outputs": [],
   "source": [
    "#from translate import Translator\n",
    "#translator= Translator(from_lang=\"fr\", to_lang=\"en\")"
   ]
  },
  {
   "cell_type": "code",
   "execution_count": 20,
   "metadata": {
    "id": "hnevmf8BJNgi"
   },
   "outputs": [],
   "source": [
    "def translate_skills(df_skills, file_name, id_col = 'job_offer_id'):\n",
    "    if os.path.exists(file_name):\n",
    "        exist_df = pd.DataFrame(read_json_lines(file_name))\n",
    "        print('all skiils', df_skills.shape[0])\n",
    "        df_skills = df_skills[~df_skills[id_col].isin(exist_df['id'])]\n",
    "        print('rest of skills', df_skills.shape[0])\n",
    "    skills_en = []\n",
    "    ttrans = argostranslate.translate\n",
    "    for ind, row in tqdm(df_skills.iterrows(), total=df_skills.shape[0]):\n",
    "        skills = row['skills'].split('|')\n",
    "        rows = {}\n",
    "        en_skills = [ttrans.translate(i, from_code, to_code) for i in skills]\n",
    "        gc.collect()\n",
    "        #skills_en.append('|'.join(en_skills))\n",
    "        rows['id'] = row[id_col]\n",
    "        rows['en_skills'] = en_skills\n",
    "        write_json_lines(file_name,rows)"
   ]
  },
  {
   "cell_type": "markdown",
   "metadata": {},
   "source": [
    "### Job Offers: Translating skills extracted using ESCO extracted patterns"
   ]
  },
  {
   "cell_type": "code",
   "execution_count": 13,
   "metadata": {
    "id": "6fz1oRYxGLcO"
   },
   "outputs": [],
   "source": [
    "#df = pd.DataFrame(read_json_lines(join(SKILL_OUT, 'fr_extracted_skills_v3.jsonl')))"
   ]
  },
  {
   "cell_type": "code",
   "execution_count": 14,
   "metadata": {
    "colab": {
     "base_uri": "https://localhost:8080/",
     "height": 424
    },
    "id": "z_IA6a_BP5Bp",
    "outputId": "eeea4306-061d-45a6-bb99-6deb6583caf7"
   },
   "outputs": [],
   "source": [
    "#df"
   ]
  },
  {
   "cell_type": "code",
   "execution_count": 15,
   "metadata": {
    "colab": {
     "base_uri": "https://localhost:8080/",
     "height": 386,
     "referenced_widgets": [
      "33c3c510774348a18bf4a97e4cf3a9ef",
      "616cf1cb8ebd459da061d1e2c102b714",
      "53135e859f334eb99cb31ecd13826833",
      "cf45b383a81d406d9d845174d7bfb70c",
      "68a2866fb3c544d0bd2df1a1565b116e",
      "ba2c924d79b74729ae697282f6c091e9",
      "acffa601f0b44cf18a2abac2feb506d3",
      "4333f9f1e6d04b379c63f495a9d13728",
      "91de2898a4ae4cf8bc8f734a726de8e4",
      "2cf4ab61714545b99e918d9aa97faa8e",
      "823d6f87eb694c0d8a29b6d8e3778951"
     ]
    },
    "id": "HqwsRDT3JNgj",
    "outputId": "57ee7f93-6458-4571-e1a0-6d9b43d3bf8d"
   },
   "outputs": [],
   "source": [
    "#translate_skills(df, join(ACC_DIR, 'en_skills_ESCO_argos.jsonl'))\n",
    "####"
   ]
  },
  {
   "cell_type": "markdown",
   "metadata": {
    "id": "srAN9DL-JNgk"
   },
   "source": [
    "### Job Offers: Translating skills extracted using Pole Emploi extracted patterns"
   ]
  },
  {
   "cell_type": "code",
   "execution_count": 16,
   "metadata": {
    "id": "wcbLE0tCIab9"
   },
   "outputs": [],
   "source": [
    "df_pe = pd.DataFrame(read_json_lines(join(SKILL_OUT, 'extracted_skills_pole_emploi_v2.jsonl')))"
   ]
  },
  {
   "cell_type": "code",
   "execution_count": 17,
   "metadata": {
    "id": "UvltEk_cJNgm"
   },
   "outputs": [
    {
     "data": {
      "application/vnd.jupyter.widget-view+json": {
       "model_id": "f7e47800ab544fe4b9438672fc26012b",
       "version_major": 2,
       "version_minor": 0
      },
      "text/plain": [
       "  0%|          | 0/123991 [00:00<?, ?it/s]"
      ]
     },
     "metadata": {},
     "output_type": "display_data"
    }
   ],
   "source": [
    "translate_skills(df_pe, join(ACC_DIR, 'en_skills_pole_emploi_argos.jsonl'))"
   ]
  },
  {
   "cell_type": "markdown",
   "metadata": {
    "id": "eoWRtWx-JNgn"
   },
   "source": [
    "### Coursera: Translating skills extracted using  ESCO extracted patterns"
   ]
  },
  {
   "cell_type": "code",
   "execution_count": 23,
   "metadata": {
    "id": "obFcqVkSJNgn"
   },
   "outputs": [],
   "source": [
    "df_co = pd.DataFrame(read_json_lines(join(SKILL_OUT, 'fr_coursera_extracted_skills_v2.jsonl')))"
   ]
  },
  {
   "cell_type": "code",
   "execution_count": 24,
   "metadata": {
    "id": "r70tpAmvS-tc"
   },
   "outputs": [
    {
     "name": "stdout",
     "output_type": "stream",
     "text": [
      "all skiils 10180\n",
      "rest of skills 9341\n"
     ]
    },
    {
     "data": {
      "application/vnd.jupyter.widget-view+json": {
       "model_id": "1b3ddfcd929b408ea98622c53f1cabe6",
       "version_major": 2,
       "version_minor": 0
      },
      "text/plain": [
       "  0%|          | 0/9341 [00:00<?, ?it/s]"
      ]
     },
     "metadata": {},
     "output_type": "display_data"
    }
   ],
   "source": [
    "translate_skills(df_co, join(ACC_DIR, 'en_skills_coursera_argos.jsonl'), 'id')"
   ]
  },
  {
   "cell_type": "markdown",
   "metadata": {},
   "source": [
    "### Coursera: Translating skills extracted using  Pol Emploi extracted patterns"
   ]
  },
  {
   "cell_type": "code",
   "execution_count": 25,
   "metadata": {
    "id": "x1L0n2o8xQZy"
   },
   "outputs": [],
   "source": [
    "df_co = pd.DataFrame(read_json_lines(join(SKILL_OUT, 'fr_coursera_extracted_skills_pole_emploi_v1.jsonl')))"
   ]
  },
  {
   "cell_type": "code",
   "execution_count": 26,
   "metadata": {},
   "outputs": [
    {
     "data": {
      "application/vnd.jupyter.widget-view+json": {
       "model_id": "bb4a3cb5ccf14fe680890e0a39d0abbe",
       "version_major": 2,
       "version_minor": 0
      },
      "text/plain": [
       "  0%|          | 0/10180 [00:00<?, ?it/s]"
      ]
     },
     "metadata": {},
     "output_type": "display_data"
    }
   ],
   "source": [
    "translate_skills(df_co, join(ACC_DIR, 'en_skills_coursera_PE_argos.jsonl'), 'id')"
   ]
  },
  {
   "cell_type": "code",
   "execution_count": null,
   "metadata": {},
   "outputs": [],
   "source": []
  }
 ],
 "metadata": {
  "colab": {
   "provenance": []
  },
  "kernelspec": {
   "display_name": "Python 3 (ipykernel)",
   "language": "python",
   "name": "python3"
  },
  "language_info": {
   "codemirror_mode": {
    "name": "ipython",
    "version": 3
   },
   "file_extension": ".py",
   "mimetype": "text/x-python",
   "name": "python",
   "nbconvert_exporter": "python",
   "pygments_lexer": "ipython3",
   "version": "3.8.16"
  },
  "widgets": {
   "application/vnd.jupyter.widget-state+json": {
    "2cf4ab61714545b99e918d9aa97faa8e": {
     "model_module": "@jupyter-widgets/base",
     "model_module_version": "1.2.0",
     "model_name": "LayoutModel",
     "state": {
      "_model_module": "@jupyter-widgets/base",
      "_model_module_version": "1.2.0",
      "_model_name": "LayoutModel",
      "_view_count": null,
      "_view_module": "@jupyter-widgets/base",
      "_view_module_version": "1.2.0",
      "_view_name": "LayoutView",
      "align_content": null,
      "align_items": null,
      "align_self": null,
      "border": null,
      "bottom": null,
      "display": null,
      "flex": null,
      "flex_flow": null,
      "grid_area": null,
      "grid_auto_columns": null,
      "grid_auto_flow": null,
      "grid_auto_rows": null,
      "grid_column": null,
      "grid_gap": null,
      "grid_row": null,
      "grid_template_areas": null,
      "grid_template_columns": null,
      "grid_template_rows": null,
      "height": null,
      "justify_content": null,
      "justify_items": null,
      "left": null,
      "margin": null,
      "max_height": null,
      "max_width": null,
      "min_height": null,
      "min_width": null,
      "object_fit": null,
      "object_position": null,
      "order": null,
      "overflow": null,
      "overflow_x": null,
      "overflow_y": null,
      "padding": null,
      "right": null,
      "top": null,
      "visibility": null,
      "width": null
     }
    },
    "33c3c510774348a18bf4a97e4cf3a9ef": {
     "model_module": "@jupyter-widgets/controls",
     "model_module_version": "1.5.0",
     "model_name": "HBoxModel",
     "state": {
      "_dom_classes": [],
      "_model_module": "@jupyter-widgets/controls",
      "_model_module_version": "1.5.0",
      "_model_name": "HBoxModel",
      "_view_count": null,
      "_view_module": "@jupyter-widgets/controls",
      "_view_module_version": "1.5.0",
      "_view_name": "HBoxView",
      "box_style": "",
      "children": [
       "IPY_MODEL_616cf1cb8ebd459da061d1e2c102b714",
       "IPY_MODEL_53135e859f334eb99cb31ecd13826833",
       "IPY_MODEL_cf45b383a81d406d9d845174d7bfb70c"
      ],
      "layout": "IPY_MODEL_68a2866fb3c544d0bd2df1a1565b116e"
     }
    },
    "4333f9f1e6d04b379c63f495a9d13728": {
     "model_module": "@jupyter-widgets/base",
     "model_module_version": "1.2.0",
     "model_name": "LayoutModel",
     "state": {
      "_model_module": "@jupyter-widgets/base",
      "_model_module_version": "1.2.0",
      "_model_name": "LayoutModel",
      "_view_count": null,
      "_view_module": "@jupyter-widgets/base",
      "_view_module_version": "1.2.0",
      "_view_name": "LayoutView",
      "align_content": null,
      "align_items": null,
      "align_self": null,
      "border": null,
      "bottom": null,
      "display": null,
      "flex": null,
      "flex_flow": null,
      "grid_area": null,
      "grid_auto_columns": null,
      "grid_auto_flow": null,
      "grid_auto_rows": null,
      "grid_column": null,
      "grid_gap": null,
      "grid_row": null,
      "grid_template_areas": null,
      "grid_template_columns": null,
      "grid_template_rows": null,
      "height": null,
      "justify_content": null,
      "justify_items": null,
      "left": null,
      "margin": null,
      "max_height": null,
      "max_width": null,
      "min_height": null,
      "min_width": null,
      "object_fit": null,
      "object_position": null,
      "order": null,
      "overflow": null,
      "overflow_x": null,
      "overflow_y": null,
      "padding": null,
      "right": null,
      "top": null,
      "visibility": null,
      "width": null
     }
    },
    "53135e859f334eb99cb31ecd13826833": {
     "model_module": "@jupyter-widgets/controls",
     "model_module_version": "1.5.0",
     "model_name": "FloatProgressModel",
     "state": {
      "_dom_classes": [],
      "_model_module": "@jupyter-widgets/controls",
      "_model_module_version": "1.5.0",
      "_model_name": "FloatProgressModel",
      "_view_count": null,
      "_view_module": "@jupyter-widgets/controls",
      "_view_module_version": "1.5.0",
      "_view_name": "ProgressView",
      "bar_style": "danger",
      "description": "",
      "description_tooltip": null,
      "layout": "IPY_MODEL_4333f9f1e6d04b379c63f495a9d13728",
      "max": 102673,
      "min": 0,
      "orientation": "horizontal",
      "style": "IPY_MODEL_91de2898a4ae4cf8bc8f734a726de8e4",
      "value": 39
     }
    },
    "616cf1cb8ebd459da061d1e2c102b714": {
     "model_module": "@jupyter-widgets/controls",
     "model_module_version": "1.5.0",
     "model_name": "HTMLModel",
     "state": {
      "_dom_classes": [],
      "_model_module": "@jupyter-widgets/controls",
      "_model_module_version": "1.5.0",
      "_model_name": "HTMLModel",
      "_view_count": null,
      "_view_module": "@jupyter-widgets/controls",
      "_view_module_version": "1.5.0",
      "_view_name": "HTMLView",
      "description": "",
      "description_tooltip": null,
      "layout": "IPY_MODEL_ba2c924d79b74729ae697282f6c091e9",
      "placeholder": "​",
      "style": "IPY_MODEL_acffa601f0b44cf18a2abac2feb506d3",
      "value": "  0%"
     }
    },
    "68a2866fb3c544d0bd2df1a1565b116e": {
     "model_module": "@jupyter-widgets/base",
     "model_module_version": "1.2.0",
     "model_name": "LayoutModel",
     "state": {
      "_model_module": "@jupyter-widgets/base",
      "_model_module_version": "1.2.0",
      "_model_name": "LayoutModel",
      "_view_count": null,
      "_view_module": "@jupyter-widgets/base",
      "_view_module_version": "1.2.0",
      "_view_name": "LayoutView",
      "align_content": null,
      "align_items": null,
      "align_self": null,
      "border": null,
      "bottom": null,
      "display": null,
      "flex": null,
      "flex_flow": null,
      "grid_area": null,
      "grid_auto_columns": null,
      "grid_auto_flow": null,
      "grid_auto_rows": null,
      "grid_column": null,
      "grid_gap": null,
      "grid_row": null,
      "grid_template_areas": null,
      "grid_template_columns": null,
      "grid_template_rows": null,
      "height": null,
      "justify_content": null,
      "justify_items": null,
      "left": null,
      "margin": null,
      "max_height": null,
      "max_width": null,
      "min_height": null,
      "min_width": null,
      "object_fit": null,
      "object_position": null,
      "order": null,
      "overflow": null,
      "overflow_x": null,
      "overflow_y": null,
      "padding": null,
      "right": null,
      "top": null,
      "visibility": null,
      "width": null
     }
    },
    "823d6f87eb694c0d8a29b6d8e3778951": {
     "model_module": "@jupyter-widgets/controls",
     "model_module_version": "1.5.0",
     "model_name": "DescriptionStyleModel",
     "state": {
      "_model_module": "@jupyter-widgets/controls",
      "_model_module_version": "1.5.0",
      "_model_name": "DescriptionStyleModel",
      "_view_count": null,
      "_view_module": "@jupyter-widgets/base",
      "_view_module_version": "1.2.0",
      "_view_name": "StyleView",
      "description_width": ""
     }
    },
    "91de2898a4ae4cf8bc8f734a726de8e4": {
     "model_module": "@jupyter-widgets/controls",
     "model_module_version": "1.5.0",
     "model_name": "ProgressStyleModel",
     "state": {
      "_model_module": "@jupyter-widgets/controls",
      "_model_module_version": "1.5.0",
      "_model_name": "ProgressStyleModel",
      "_view_count": null,
      "_view_module": "@jupyter-widgets/base",
      "_view_module_version": "1.2.0",
      "_view_name": "StyleView",
      "bar_color": null,
      "description_width": ""
     }
    },
    "acffa601f0b44cf18a2abac2feb506d3": {
     "model_module": "@jupyter-widgets/controls",
     "model_module_version": "1.5.0",
     "model_name": "DescriptionStyleModel",
     "state": {
      "_model_module": "@jupyter-widgets/controls",
      "_model_module_version": "1.5.0",
      "_model_name": "DescriptionStyleModel",
      "_view_count": null,
      "_view_module": "@jupyter-widgets/base",
      "_view_module_version": "1.2.0",
      "_view_name": "StyleView",
      "description_width": ""
     }
    },
    "ba2c924d79b74729ae697282f6c091e9": {
     "model_module": "@jupyter-widgets/base",
     "model_module_version": "1.2.0",
     "model_name": "LayoutModel",
     "state": {
      "_model_module": "@jupyter-widgets/base",
      "_model_module_version": "1.2.0",
      "_model_name": "LayoutModel",
      "_view_count": null,
      "_view_module": "@jupyter-widgets/base",
      "_view_module_version": "1.2.0",
      "_view_name": "LayoutView",
      "align_content": null,
      "align_items": null,
      "align_self": null,
      "border": null,
      "bottom": null,
      "display": null,
      "flex": null,
      "flex_flow": null,
      "grid_area": null,
      "grid_auto_columns": null,
      "grid_auto_flow": null,
      "grid_auto_rows": null,
      "grid_column": null,
      "grid_gap": null,
      "grid_row": null,
      "grid_template_areas": null,
      "grid_template_columns": null,
      "grid_template_rows": null,
      "height": null,
      "justify_content": null,
      "justify_items": null,
      "left": null,
      "margin": null,
      "max_height": null,
      "max_width": null,
      "min_height": null,
      "min_width": null,
      "object_fit": null,
      "object_position": null,
      "order": null,
      "overflow": null,
      "overflow_x": null,
      "overflow_y": null,
      "padding": null,
      "right": null,
      "top": null,
      "visibility": null,
      "width": null
     }
    },
    "cf45b383a81d406d9d845174d7bfb70c": {
     "model_module": "@jupyter-widgets/controls",
     "model_module_version": "1.5.0",
     "model_name": "HTMLModel",
     "state": {
      "_dom_classes": [],
      "_model_module": "@jupyter-widgets/controls",
      "_model_module_version": "1.5.0",
      "_model_name": "HTMLModel",
      "_view_count": null,
      "_view_module": "@jupyter-widgets/controls",
      "_view_module_version": "1.5.0",
      "_view_name": "HTMLView",
      "description": "",
      "description_tooltip": null,
      "layout": "IPY_MODEL_2cf4ab61714545b99e918d9aa97faa8e",
      "placeholder": "​",
      "style": "IPY_MODEL_823d6f87eb694c0d8a29b6d8e3778951",
      "value": " 39/102673 [01:50&lt;61:31:25,  2.16s/it]"
     }
    }
   }
  }
 },
 "nbformat": 4,
 "nbformat_minor": 1
}
