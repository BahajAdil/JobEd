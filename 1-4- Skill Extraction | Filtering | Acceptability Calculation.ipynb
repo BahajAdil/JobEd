{
 "cells": [
  {
   "cell_type": "code",
   "execution_count": 21,
   "metadata": {
    "colab": {
     "base_uri": "https://localhost:8080/"
    },
    "id": "dDyAicU2d_FG",
    "outputId": "db6b083a-d64a-4f71-eccf-f6b16975bc63"
   },
   "outputs": [
    {
     "name": "stderr",
     "output_type": "stream",
     "text": [
      "[nltk_data] Downloading package stopwords to /home/vortex/nltk_data...\n",
      "[nltk_data]   Package stopwords is already up-to-date!\n",
      "[nltk_data] Downloading package wordnet to /home/vortex/nltk_data...\n",
      "[nltk_data]   Package wordnet is already up-to-date!\n",
      "[nltk_data] Downloading package omw-1.4 to /home/vortex/nltk_data...\n",
      "[nltk_data]   Package omw-1.4 is already up-to-date!\n"
     ]
    }
   ],
   "source": [
    "import spacy\n",
    "from spacy.pipeline import EntityRuler\n",
    "from spacy.lang.en import English\n",
    "from spacy.tokens import Doc\n",
    "\n",
    "#gensim\n",
    "import gensim\n",
    "from gensim import corpora\n",
    "\n",
    "#Visualization\n",
    "from spacy import displacy\n",
    "#import pyLDAvis.gensim_models\n",
    "#from wordcloud import WordCloud\n",
    "import plotly.express as px\n",
    "import matplotlib.pyplot as plt\n",
    "\n",
    "#Data loading/ Data manipulation\n",
    "import pandas as pd\n",
    "import numpy as np\n",
    "import json\n",
    "import jsonlines\n",
    "from collections import Counter\n",
    "from tqdm.notebook import tqdm\n",
    "import gc\n",
    "\n",
    "#nltk\n",
    "import re\n",
    "import nltk\n",
    "from nltk.corpus import stopwords\n",
    "from nltk.stem import WordNetLemmatizer\n",
    "nltk.download(['stopwords','wordnet', 'omw-1.4'])\n",
    "\n",
    "#warning\n",
    "import warnings \n",
    "#from PyPDF2 import PdfFileReader\n",
    "from os.path import join\n",
    "from tqdm.notebook import tqdm\n",
    "import os\n",
    "\n",
    "import torch\n",
    "from torch.utils import data as t_data\n",
    "from transformers import AutoTokenizer, AutoModelForSeq2SeqLM\n",
    "from multiprocessing.pool import ThreadPool\n",
    "from transformers import AutoTokenizer, AutoModelForSequenceClassification\n",
    "from transformers import pipeline\n",
    "\n",
    "tqdm.pandas()\n",
    "\n",
    "warnings.filterwarnings('ignore')\n",
    "\n",
    "ACC_DIR = 'data/transformed_data/acceptability'\n",
    "SKILL_OUT = 'data/transformed_data/extracted_skills'\n"
   ]
  },
  {
   "cell_type": "code",
   "execution_count": 22,
   "metadata": {},
   "outputs": [],
   "source": [
    "\n",
    "classifier = pipeline(task=\"text-classification\", model='textattack/albert-base-v2-CoLA', device = 0, padding='max_length', truncation=True)\n"
   ]
  },
  {
   "cell_type": "code",
   "execution_count": 23,
   "metadata": {},
   "outputs": [
    {
     "data": {
      "text/plain": [
       "device(type='cuda', index=0)"
      ]
     },
     "execution_count": 23,
     "metadata": {},
     "output_type": "execute_result"
    }
   ],
   "source": [
    "classifier.device"
   ]
  },
  {
   "cell_type": "code",
   "execution_count": 24,
   "metadata": {
    "id": "AHCsUvANeW-t"
   },
   "outputs": [],
   "source": [
    "def write_json_lines(file_name,dict_data):\n",
    "    json_string = json.dumps(dict_data)\n",
    "    with open(file_name, 'a') as f:\n",
    "        f.write(json_string+\"\\n\")\n",
    "        \n",
    "def read_json_lines(file_name):\n",
    "    lines = []\n",
    "    with open(file_name) as file_in:\n",
    "        for line in file_in:\n",
    "            lines.append(json.loads(line))\n",
    "    return lines\n",
    "\n",
    "def get_clean_transformer_data(df):\n",
    "    df = df.explode('en_skills').reset_index(drop=True)\n",
    "    df['en_skills'] = df['en_skills'].str.replace(\"I'm sorry, but I don't know.\", '')\n",
    "    return df\n",
    "\n",
    "def infer_(df, classfier):\n",
    "    all_data = []\n",
    "    for k,g in tqdm(df.groupby(np.arange(len(df))//2000)):\n",
    "#         return g\n",
    "        group_skills = list(g['en_skills'])\n",
    "        ids = list(g['id'])\n",
    "#         print(group_skills)\n",
    "        all_classes = classfier(group_skills)\n",
    "        for ix, i in enumerate(all_classes):\n",
    "            all_classes[ix]['id'] = ids[ix]\n",
    "        all_data += all_classes\n",
    "    return all_data\n",
    "\n",
    "def process_acceptability_df(acc_df):\n",
    "    labels_series = pd.DataFrame(acc_df).groupby('id')['label'].apply(list)\n",
    "    score_series = pd.DataFrame(acc_df).groupby('id')['score'].apply(list)\n",
    "    return labels_series, score_series\n",
    "    \n",
    "def concate_tables(acc_df):\n",
    "    labels_series, score_series = process_acceptability_df(acc_df)\n",
    "    original_df = pd.DataFrame(read_json_lines(join(SKILL_OUT, 'fr_extracted_skills_v3.jsonl')))\n",
    "    original_df = original_df.set_index('job_offer_id')\n",
    "    translated_ = pd.DataFrame(read_json_lines(join(ACC_DIR, 'en_skills_ESCO_transformers.jsonl')))\n",
    "    translated_ = translated_.set_index('id')\n",
    "    original_df['en_skills'] = translated_['en_skills']\n",
    "    original_df['labels'] = labels_series\n",
    "    original_df['scores'] = score_series\n",
    "    return original_df\n",
    "#         return all_classes"
   ]
  },
  {
   "cell_type": "markdown",
   "metadata": {},
   "source": [
    "## Transformer Acceptability"
   ]
  },
  {
   "cell_type": "markdown",
   "metadata": {},
   "source": [
    "### Job Offers: Translating skills extracted using ESCO extracted patterns"
   ]
  },
  {
   "cell_type": "code",
   "execution_count": 5,
   "metadata": {
    "id": "UX7YNaZPgjFu"
   },
   "outputs": [],
   "source": [
    "df = pd.DataFrame(read_json_lines(join(ACC_DIR, 'en_skills_ESCO_transformers.jsonl')))"
   ]
  },
  {
   "cell_type": "code",
   "execution_count": 6,
   "metadata": {
    "id": "ERbnuV_pEgbt"
   },
   "outputs": [
    {
     "data": {
      "text/html": [
       "<div>\n",
       "<style scoped>\n",
       "    .dataframe tbody tr th:only-of-type {\n",
       "        vertical-align: middle;\n",
       "    }\n",
       "\n",
       "    .dataframe tbody tr th {\n",
       "        vertical-align: top;\n",
       "    }\n",
       "\n",
       "    .dataframe thead th {\n",
       "        text-align: right;\n",
       "    }\n",
       "</style>\n",
       "<table border=\"1\" class=\"dataframe\">\n",
       "  <thead>\n",
       "    <tr style=\"text-align: right;\">\n",
       "      <th></th>\n",
       "      <th>id</th>\n",
       "      <th>en_skills</th>\n",
       "    </tr>\n",
       "  </thead>\n",
       "  <tbody>\n",
       "    <tr>\n",
       "      <th>0</th>\n",
       "      <td>0</td>\n",
       "      <td>[use of equipment, s--------------------------...</td>\n",
       "    </tr>\n",
       "    <tr>\n",
       "      <th>1</th>\n",
       "      <td>1</td>\n",
       "      <td>[I'm sorry, but I don't know.]</td>\n",
       "    </tr>\n",
       "    <tr>\n",
       "      <th>2</th>\n",
       "      <td>2</td>\n",
       "      <td>[I'm sorry, but I don't know.]</td>\n",
       "    </tr>\n",
       "    <tr>\n",
       "      <th>3</th>\n",
       "      <td>110</td>\n",
       "      <td>[I'm sorry, but I don't know.]</td>\n",
       "    </tr>\n",
       "    <tr>\n",
       "      <th>4</th>\n",
       "      <td>1015</td>\n",
       "      <td>[mechanical]</td>\n",
       "    </tr>\n",
       "    <tr>\n",
       "      <th>...</th>\n",
       "      <td>...</td>\n",
       "      <td>...</td>\n",
       "    </tr>\n",
       "    <tr>\n",
       "      <th>115717</th>\n",
       "      <td>83520</td>\n",
       "      <td>[improve assortment, analyse indicators on mar...</td>\n",
       "    </tr>\n",
       "    <tr>\n",
       "      <th>115718</th>\n",
       "      <td>83519</td>\n",
       "      <td>[respond to requests, Technical Experts, defin...</td>\n",
       "    </tr>\n",
       "    <tr>\n",
       "      <th>115719</th>\n",
       "      <td>71931</td>\n",
       "      <td>[close collaboration, propose a publication sc...</td>\n",
       "    </tr>\n",
       "    <tr>\n",
       "      <th>115720</th>\n",
       "      <td>62300</td>\n",
       "      <td>[s--------------------------------------------...</td>\n",
       "    </tr>\n",
       "    <tr>\n",
       "      <th>115721</th>\n",
       "      <td>62299</td>\n",
       "      <td>[working in multicultural environments, Use, f...</td>\n",
       "    </tr>\n",
       "  </tbody>\n",
       "</table>\n",
       "<p>115722 rows × 2 columns</p>\n",
       "</div>"
      ],
      "text/plain": [
       "           id                                          en_skills\n",
       "0           0  [use of equipment, s--------------------------...\n",
       "1           1                     [I'm sorry, but I don't know.]\n",
       "2           2                     [I'm sorry, but I don't know.]\n",
       "3         110                     [I'm sorry, but I don't know.]\n",
       "4        1015                                       [mechanical]\n",
       "...       ...                                                ...\n",
       "115717  83520  [improve assortment, analyse indicators on mar...\n",
       "115718  83519  [respond to requests, Technical Experts, defin...\n",
       "115719  71931  [close collaboration, propose a publication sc...\n",
       "115720  62300  [s--------------------------------------------...\n",
       "115721  62299  [working in multicultural environments, Use, f...\n",
       "\n",
       "[115722 rows x 2 columns]"
      ]
     },
     "execution_count": 6,
     "metadata": {},
     "output_type": "execute_result"
    }
   ],
   "source": [
    "df"
   ]
  },
  {
   "cell_type": "code",
   "execution_count": 7,
   "metadata": {},
   "outputs": [],
   "source": [
    "df_ = get_clean_transformer_data(df)"
   ]
  },
  {
   "cell_type": "code",
   "execution_count": 8,
   "metadata": {},
   "outputs": [
    {
     "data": {
      "text/html": [
       "<div>\n",
       "<style scoped>\n",
       "    .dataframe tbody tr th:only-of-type {\n",
       "        vertical-align: middle;\n",
       "    }\n",
       "\n",
       "    .dataframe tbody tr th {\n",
       "        vertical-align: top;\n",
       "    }\n",
       "\n",
       "    .dataframe thead th {\n",
       "        text-align: right;\n",
       "    }\n",
       "</style>\n",
       "<table border=\"1\" class=\"dataframe\">\n",
       "  <thead>\n",
       "    <tr style=\"text-align: right;\">\n",
       "      <th></th>\n",
       "      <th>id</th>\n",
       "      <th>en_skills</th>\n",
       "    </tr>\n",
       "  </thead>\n",
       "  <tbody>\n",
       "    <tr>\n",
       "      <th>0</th>\n",
       "      <td>0</td>\n",
       "      <td>use of equipment</td>\n",
       "    </tr>\n",
       "    <tr>\n",
       "      <th>1</th>\n",
       "      <td>0</td>\n",
       "      <td>s---------------------------------------------...</td>\n",
       "    </tr>\n",
       "    <tr>\n",
       "      <th>2</th>\n",
       "      <td>0</td>\n",
       "      <td>resolve incidents</td>\n",
       "    </tr>\n",
       "    <tr>\n",
       "      <th>3</th>\n",
       "      <td>0</td>\n",
       "      <td>physical architectures</td>\n",
       "    </tr>\n",
       "    <tr>\n",
       "      <th>4</th>\n",
       "      <td>0</td>\n",
       "      <td>working environment</td>\n",
       "    </tr>\n",
       "  </tbody>\n",
       "</table>\n",
       "</div>"
      ],
      "text/plain": [
       "   id                                          en_skills\n",
       "0   0                                   use of equipment\n",
       "1   0  s---------------------------------------------...\n",
       "2   0                                  resolve incidents\n",
       "3   0                             physical architectures\n",
       "4   0                                working environment"
      ]
     },
     "execution_count": 8,
     "metadata": {},
     "output_type": "execute_result"
    }
   ],
   "source": [
    "df_.head()"
   ]
  },
  {
   "cell_type": "code",
   "execution_count": null,
   "metadata": {},
   "outputs": [],
   "source": []
  },
  {
   "cell_type": "code",
   "execution_count": 9,
   "metadata": {},
   "outputs": [
    {
     "data": {
      "application/vnd.jupyter.widget-view+json": {
       "model_id": "8d64bae531fc4a6eb120e7c3df2b722e",
       "version_major": 2,
       "version_minor": 0
      },
      "text/plain": [
       "  0%|          | 0/492 [00:00<?, ?it/s]"
      ]
     },
     "metadata": {},
     "output_type": "display_data"
    }
   ],
   "source": [
    "all_extracted_acceptability = infer_(df_, classifier)"
   ]
  },
  {
   "cell_type": "code",
   "execution_count": 15,
   "metadata": {},
   "outputs": [
    {
     "data": {
      "text/html": [
       "<div>\n",
       "<style scoped>\n",
       "    .dataframe tbody tr th:only-of-type {\n",
       "        vertical-align: middle;\n",
       "    }\n",
       "\n",
       "    .dataframe tbody tr th {\n",
       "        vertical-align: top;\n",
       "    }\n",
       "\n",
       "    .dataframe thead th {\n",
       "        text-align: right;\n",
       "    }\n",
       "</style>\n",
       "<table border=\"1\" class=\"dataframe\">\n",
       "  <thead>\n",
       "    <tr style=\"text-align: right;\">\n",
       "      <th></th>\n",
       "      <th>id</th>\n",
       "      <th>en_skills</th>\n",
       "    </tr>\n",
       "  </thead>\n",
       "  <tbody>\n",
       "    <tr>\n",
       "      <th>0</th>\n",
       "      <td>0</td>\n",
       "      <td>[use of equipment, s--------------------------...</td>\n",
       "    </tr>\n",
       "    <tr>\n",
       "      <th>1</th>\n",
       "      <td>1</td>\n",
       "      <td>[I'm sorry, but I don't know.]</td>\n",
       "    </tr>\n",
       "    <tr>\n",
       "      <th>2</th>\n",
       "      <td>2</td>\n",
       "      <td>[I'm sorry, but I don't know.]</td>\n",
       "    </tr>\n",
       "    <tr>\n",
       "      <th>3</th>\n",
       "      <td>110</td>\n",
       "      <td>[I'm sorry, but I don't know.]</td>\n",
       "    </tr>\n",
       "    <tr>\n",
       "      <th>4</th>\n",
       "      <td>1015</td>\n",
       "      <td>[mechanical]</td>\n",
       "    </tr>\n",
       "    <tr>\n",
       "      <th>...</th>\n",
       "      <td>...</td>\n",
       "      <td>...</td>\n",
       "    </tr>\n",
       "    <tr>\n",
       "      <th>115717</th>\n",
       "      <td>83520</td>\n",
       "      <td>[improve assortment, analyse indicators on mar...</td>\n",
       "    </tr>\n",
       "    <tr>\n",
       "      <th>115718</th>\n",
       "      <td>83519</td>\n",
       "      <td>[respond to requests, Technical Experts, defin...</td>\n",
       "    </tr>\n",
       "    <tr>\n",
       "      <th>115719</th>\n",
       "      <td>71931</td>\n",
       "      <td>[close collaboration, propose a publication sc...</td>\n",
       "    </tr>\n",
       "    <tr>\n",
       "      <th>115720</th>\n",
       "      <td>62300</td>\n",
       "      <td>[s--------------------------------------------...</td>\n",
       "    </tr>\n",
       "    <tr>\n",
       "      <th>115721</th>\n",
       "      <td>62299</td>\n",
       "      <td>[working in multicultural environments, Use, f...</td>\n",
       "    </tr>\n",
       "  </tbody>\n",
       "</table>\n",
       "<p>115722 rows × 2 columns</p>\n",
       "</div>"
      ],
      "text/plain": [
       "           id                                          en_skills\n",
       "0           0  [use of equipment, s--------------------------...\n",
       "1           1                     [I'm sorry, but I don't know.]\n",
       "2           2                     [I'm sorry, but I don't know.]\n",
       "3         110                     [I'm sorry, but I don't know.]\n",
       "4        1015                                       [mechanical]\n",
       "...       ...                                                ...\n",
       "115717  83520  [improve assortment, analyse indicators on mar...\n",
       "115718  83519  [respond to requests, Technical Experts, defin...\n",
       "115719  71931  [close collaboration, propose a publication sc...\n",
       "115720  62300  [s--------------------------------------------...\n",
       "115721  62299  [working in multicultural environments, Use, f...\n",
       "\n",
       "[115722 rows x 2 columns]"
      ]
     },
     "execution_count": 15,
     "metadata": {},
     "output_type": "execute_result"
    }
   ],
   "source": [
    "df"
   ]
  },
  {
   "cell_type": "code",
   "execution_count": 22,
   "metadata": {},
   "outputs": [],
   "source": [
    "pd.DataFrame(all_extracted_acceptability).to_csv(join(ACC_DIR, 'en_skills_ESCO_transformers_raw_acceptability.csv'), index = False)"
   ]
  },
  {
   "cell_type": "markdown",
   "metadata": {},
   "source": [
    "### Job Offers: Translating skills extracted using Pole Emploi extracted patterns"
   ]
  },
  {
   "cell_type": "code",
   "execution_count": 5,
   "metadata": {},
   "outputs": [],
   "source": [
    "df = pd.DataFrame(read_json_lines(join(ACC_DIR, 'en_skills_PE_transformers.jsonl')))"
   ]
  },
  {
   "cell_type": "code",
   "execution_count": 6,
   "metadata": {},
   "outputs": [
    {
     "data": {
      "text/html": [
       "<div>\n",
       "<style scoped>\n",
       "    .dataframe tbody tr th:only-of-type {\n",
       "        vertical-align: middle;\n",
       "    }\n",
       "\n",
       "    .dataframe tbody tr th {\n",
       "        vertical-align: top;\n",
       "    }\n",
       "\n",
       "    .dataframe thead th {\n",
       "        text-align: right;\n",
       "    }\n",
       "</style>\n",
       "<table border=\"1\" class=\"dataframe\">\n",
       "  <thead>\n",
       "    <tr style=\"text-align: right;\">\n",
       "      <th></th>\n",
       "      <th>id</th>\n",
       "      <th>en_skills</th>\n",
       "    </tr>\n",
       "  </thead>\n",
       "  <tbody>\n",
       "    <tr>\n",
       "      <th>0</th>\n",
       "      <td>0</td>\n",
       "      <td>[Customer Officer, use of equipment, Technical...</td>\n",
       "    </tr>\n",
       "    <tr>\n",
       "      <th>1</th>\n",
       "      <td>2</td>\n",
       "      <td>[support a team]</td>\n",
       "    </tr>\n",
       "    <tr>\n",
       "      <th>2</th>\n",
       "      <td>1015</td>\n",
       "      <td>[production management, mechanical]</td>\n",
       "    </tr>\n",
       "    <tr>\n",
       "      <th>3</th>\n",
       "      <td>1016</td>\n",
       "      <td>[conduct of operations]</td>\n",
       "    </tr>\n",
       "    <tr>\n",
       "      <th>4</th>\n",
       "      <td>1017</td>\n",
       "      <td>[Management information technology, managing d...</td>\n",
       "    </tr>\n",
       "    <tr>\n",
       "      <th>...</th>\n",
       "      <td>...</td>\n",
       "      <td>...</td>\n",
       "    </tr>\n",
       "    <tr>\n",
       "      <th>116628</th>\n",
       "      <td>83520</td>\n",
       "      <td>[development strategy, analyse indicators on m...</td>\n",
       "    </tr>\n",
       "    <tr>\n",
       "      <th>116629</th>\n",
       "      <td>83519</td>\n",
       "      <td>[validate the solution, Project management, fo...</td>\n",
       "    </tr>\n",
       "    <tr>\n",
       "      <th>116630</th>\n",
       "      <td>71931</td>\n",
       "      <td>[social networks, propose a publication schedu...</td>\n",
       "    </tr>\n",
       "    <tr>\n",
       "      <th>116631</th>\n",
       "      <td>62300</td>\n",
       "      <td>[implementation, Social balance sheet, dashboa...</td>\n",
       "    </tr>\n",
       "    <tr>\n",
       "      <th>116632</th>\n",
       "      <td>62299</td>\n",
       "      <td>[management tools, taking up a post, Informati...</td>\n",
       "    </tr>\n",
       "  </tbody>\n",
       "</table>\n",
       "<p>116633 rows × 2 columns</p>\n",
       "</div>"
      ],
      "text/plain": [
       "           id                                          en_skills\n",
       "0           0  [Customer Officer, use of equipment, Technical...\n",
       "1           2                                   [support a team]\n",
       "2        1015                [production management, mechanical]\n",
       "3        1016                            [conduct of operations]\n",
       "4        1017  [Management information technology, managing d...\n",
       "...       ...                                                ...\n",
       "116628  83520  [development strategy, analyse indicators on m...\n",
       "116629  83519  [validate the solution, Project management, fo...\n",
       "116630  71931  [social networks, propose a publication schedu...\n",
       "116631  62300  [implementation, Social balance sheet, dashboa...\n",
       "116632  62299  [management tools, taking up a post, Informati...\n",
       "\n",
       "[116633 rows x 2 columns]"
      ]
     },
     "execution_count": 6,
     "metadata": {},
     "output_type": "execute_result"
    }
   ],
   "source": [
    "df"
   ]
  },
  {
   "cell_type": "code",
   "execution_count": 7,
   "metadata": {},
   "outputs": [],
   "source": [
    "df_ = get_clean_transformer_data(df)"
   ]
  },
  {
   "cell_type": "code",
   "execution_count": 8,
   "metadata": {},
   "outputs": [
    {
     "data": {
      "text/plain": [
       "(784099, 2)"
      ]
     },
     "execution_count": 8,
     "metadata": {},
     "output_type": "execute_result"
    }
   ],
   "source": [
    "df_.shape"
   ]
  },
  {
   "cell_type": "code",
   "execution_count": 9,
   "metadata": {},
   "outputs": [
    {
     "data": {
      "application/vnd.jupyter.widget-view+json": {
       "model_id": "fb32516c81cd466b936da23492810ec3",
       "version_major": 2,
       "version_minor": 0
      },
      "text/plain": [
       "  0%|          | 0/393 [00:00<?, ?it/s]"
      ]
     },
     "metadata": {},
     "output_type": "display_data"
    }
   ],
   "source": [
    "all_extracted_acceptability = infer_(df_, classifier)"
   ]
  },
  {
   "cell_type": "code",
   "execution_count": 11,
   "metadata": {},
   "outputs": [],
   "source": [
    "pd.DataFrame(all_extracted_acceptability).to_csv(join(ACC_DIR, 'en_skills_PE_transformers_raw_acceptability.csv'), index = False)"
   ]
  },
  {
   "cell_type": "markdown",
   "metadata": {},
   "source": [
    "### Coursera: Translating skills extracted using  ESCO extracted patterns"
   ]
  },
  {
   "cell_type": "code",
   "execution_count": 36,
   "metadata": {},
   "outputs": [],
   "source": [
    "df = pd.DataFrame(read_json_lines(join(ACC_DIR, 'en_skills_coursera_transformers.jsonl')))"
   ]
  },
  {
   "cell_type": "code",
   "execution_count": 37,
   "metadata": {},
   "outputs": [
    {
     "data": {
      "text/html": [
       "<div>\n",
       "<style scoped>\n",
       "    .dataframe tbody tr th:only-of-type {\n",
       "        vertical-align: middle;\n",
       "    }\n",
       "\n",
       "    .dataframe tbody tr th {\n",
       "        vertical-align: top;\n",
       "    }\n",
       "\n",
       "    .dataframe thead th {\n",
       "        text-align: right;\n",
       "    }\n",
       "</style>\n",
       "<table border=\"1\" class=\"dataframe\">\n",
       "  <thead>\n",
       "    <tr style=\"text-align: right;\">\n",
       "      <th></th>\n",
       "      <th>id</th>\n",
       "      <th>en_skills</th>\n",
       "    </tr>\n",
       "  </thead>\n",
       "  <tbody>\n",
       "    <tr>\n",
       "      <th>0</th>\n",
       "      <td>NJSdGN71Eeq4CApSN3OTvQ</td>\n",
       "      <td>[c#]</td>\n",
       "    </tr>\n",
       "    <tr>\n",
       "      <th>1</th>\n",
       "      <td>DMkcgX7LEeyRTg6FtAvfBw</td>\n",
       "      <td>[basic skills, different types]</td>\n",
       "    </tr>\n",
       "    <tr>\n",
       "      <th>2</th>\n",
       "      <td>rrZX06kxEeyjPxJkzIUqCw</td>\n",
       "      <td>[self-]</td>\n",
       "    </tr>\n",
       "    <tr>\n",
       "      <th>3</th>\n",
       "      <td>B6LZjKkwEeyjPxJkzIUqCw</td>\n",
       "      <td>[self-]</td>\n",
       "    </tr>\n",
       "    <tr>\n",
       "      <th>4</th>\n",
       "      <td>RdmZEakyEeyjPxJkzIUqCw</td>\n",
       "      <td>[self-]</td>\n",
       "    </tr>\n",
       "    <tr>\n",
       "      <th>...</th>\n",
       "      <td>...</td>\n",
       "      <td>...</td>\n",
       "    </tr>\n",
       "    <tr>\n",
       "      <th>1266</th>\n",
       "      <td>04e4_kIxEeuVrwrlQzvd6w</td>\n",
       "      <td>[Basic principles]</td>\n",
       "    </tr>\n",
       "    <tr>\n",
       "      <th>1267</th>\n",
       "      <td>N7ghLqkpEeyjPxJkzIUqCw</td>\n",
       "      <td>[self-]</td>\n",
       "    </tr>\n",
       "    <tr>\n",
       "      <th>1268</th>\n",
       "      <td>Zz0lopT9EeyHuA5cIqn4NQ</td>\n",
       "      <td>[test components]</td>\n",
       "    </tr>\n",
       "    <tr>\n",
       "      <th>1269</th>\n",
       "      <td>3bL_2qkxEeyjPxJkzIUqCw</td>\n",
       "      <td>[self-]</td>\n",
       "    </tr>\n",
       "    <tr>\n",
       "      <th>1270</th>\n",
       "      <td>rw7_eqJuEeua9hJHpJ2HqQ</td>\n",
       "      <td>[Physical Nuclear]</td>\n",
       "    </tr>\n",
       "  </tbody>\n",
       "</table>\n",
       "<p>1271 rows × 2 columns</p>\n",
       "</div>"
      ],
      "text/plain": [
       "                          id                        en_skills\n",
       "0     NJSdGN71Eeq4CApSN3OTvQ                             [c#]\n",
       "1     DMkcgX7LEeyRTg6FtAvfBw  [basic skills, different types]\n",
       "2     rrZX06kxEeyjPxJkzIUqCw                          [self-]\n",
       "3     B6LZjKkwEeyjPxJkzIUqCw                          [self-]\n",
       "4     RdmZEakyEeyjPxJkzIUqCw                          [self-]\n",
       "...                      ...                              ...\n",
       "1266  04e4_kIxEeuVrwrlQzvd6w               [Basic principles]\n",
       "1267  N7ghLqkpEeyjPxJkzIUqCw                          [self-]\n",
       "1268  Zz0lopT9EeyHuA5cIqn4NQ                [test components]\n",
       "1269  3bL_2qkxEeyjPxJkzIUqCw                          [self-]\n",
       "1270  rw7_eqJuEeua9hJHpJ2HqQ               [Physical Nuclear]\n",
       "\n",
       "[1271 rows x 2 columns]"
      ]
     },
     "execution_count": 37,
     "metadata": {},
     "output_type": "execute_result"
    }
   ],
   "source": [
    "df"
   ]
  },
  {
   "cell_type": "code",
   "execution_count": 38,
   "metadata": {},
   "outputs": [],
   "source": [
    "df_ = get_clean_transformer_data(df)"
   ]
  },
  {
   "cell_type": "code",
   "execution_count": 39,
   "metadata": {},
   "outputs": [
    {
     "data": {
      "application/vnd.jupyter.widget-view+json": {
       "model_id": "15003ce277304eb894f42ed3b4d09b50",
       "version_major": 2,
       "version_minor": 0
      },
      "text/plain": [
       "  0%|          | 0/2 [00:00<?, ?it/s]"
      ]
     },
     "metadata": {},
     "output_type": "display_data"
    }
   ],
   "source": [
    "all_extracted_acceptability = infer_(df_, classifier)"
   ]
  },
  {
   "cell_type": "code",
   "execution_count": 40,
   "metadata": {},
   "outputs": [],
   "source": [
    "pd.DataFrame(all_extracted_acceptability).to_csv(join(ACC_DIR, 'en_skills_coursera_transformers_raw_acceptability.csv'), index = False)"
   ]
  },
  {
   "cell_type": "code",
   "execution_count": 41,
   "metadata": {},
   "outputs": [
    {
     "data": {
      "text/html": [
       "<div>\n",
       "<style scoped>\n",
       "    .dataframe tbody tr th:only-of-type {\n",
       "        vertical-align: middle;\n",
       "    }\n",
       "\n",
       "    .dataframe tbody tr th {\n",
       "        vertical-align: top;\n",
       "    }\n",
       "\n",
       "    .dataframe thead th {\n",
       "        text-align: right;\n",
       "    }\n",
       "</style>\n",
       "<table border=\"1\" class=\"dataframe\">\n",
       "  <thead>\n",
       "    <tr style=\"text-align: right;\">\n",
       "      <th></th>\n",
       "      <th>label</th>\n",
       "      <th>score</th>\n",
       "      <th>id</th>\n",
       "    </tr>\n",
       "  </thead>\n",
       "  <tbody>\n",
       "    <tr>\n",
       "      <th>0</th>\n",
       "      <td>LABEL_1</td>\n",
       "      <td>0.929184</td>\n",
       "      <td>NJSdGN71Eeq4CApSN3OTvQ</td>\n",
       "    </tr>\n",
       "    <tr>\n",
       "      <th>1</th>\n",
       "      <td>LABEL_1</td>\n",
       "      <td>0.866787</td>\n",
       "      <td>DMkcgX7LEeyRTg6FtAvfBw</td>\n",
       "    </tr>\n",
       "    <tr>\n",
       "      <th>2</th>\n",
       "      <td>LABEL_1</td>\n",
       "      <td>0.916817</td>\n",
       "      <td>DMkcgX7LEeyRTg6FtAvfBw</td>\n",
       "    </tr>\n",
       "    <tr>\n",
       "      <th>3</th>\n",
       "      <td>LABEL_0</td>\n",
       "      <td>0.915861</td>\n",
       "      <td>rrZX06kxEeyjPxJkzIUqCw</td>\n",
       "    </tr>\n",
       "    <tr>\n",
       "      <th>4</th>\n",
       "      <td>LABEL_0</td>\n",
       "      <td>0.915861</td>\n",
       "      <td>B6LZjKkwEeyjPxJkzIUqCw</td>\n",
       "    </tr>\n",
       "    <tr>\n",
       "      <th>...</th>\n",
       "      <td>...</td>\n",
       "      <td>...</td>\n",
       "      <td>...</td>\n",
       "    </tr>\n",
       "    <tr>\n",
       "      <th>3612</th>\n",
       "      <td>LABEL_1</td>\n",
       "      <td>0.881153</td>\n",
       "      <td>04e4_kIxEeuVrwrlQzvd6w</td>\n",
       "    </tr>\n",
       "    <tr>\n",
       "      <th>3613</th>\n",
       "      <td>LABEL_0</td>\n",
       "      <td>0.915861</td>\n",
       "      <td>N7ghLqkpEeyjPxJkzIUqCw</td>\n",
       "    </tr>\n",
       "    <tr>\n",
       "      <th>3614</th>\n",
       "      <td>LABEL_1</td>\n",
       "      <td>0.701536</td>\n",
       "      <td>Zz0lopT9EeyHuA5cIqn4NQ</td>\n",
       "    </tr>\n",
       "    <tr>\n",
       "      <th>3615</th>\n",
       "      <td>LABEL_0</td>\n",
       "      <td>0.915861</td>\n",
       "      <td>3bL_2qkxEeyjPxJkzIUqCw</td>\n",
       "    </tr>\n",
       "    <tr>\n",
       "      <th>3616</th>\n",
       "      <td>LABEL_1</td>\n",
       "      <td>0.700969</td>\n",
       "      <td>rw7_eqJuEeua9hJHpJ2HqQ</td>\n",
       "    </tr>\n",
       "  </tbody>\n",
       "</table>\n",
       "<p>3617 rows × 3 columns</p>\n",
       "</div>"
      ],
      "text/plain": [
       "        label     score                      id\n",
       "0     LABEL_1  0.929184  NJSdGN71Eeq4CApSN3OTvQ\n",
       "1     LABEL_1  0.866787  DMkcgX7LEeyRTg6FtAvfBw\n",
       "2     LABEL_1  0.916817  DMkcgX7LEeyRTg6FtAvfBw\n",
       "3     LABEL_0  0.915861  rrZX06kxEeyjPxJkzIUqCw\n",
       "4     LABEL_0  0.915861  B6LZjKkwEeyjPxJkzIUqCw\n",
       "...       ...       ...                     ...\n",
       "3612  LABEL_1  0.881153  04e4_kIxEeuVrwrlQzvd6w\n",
       "3613  LABEL_0  0.915861  N7ghLqkpEeyjPxJkzIUqCw\n",
       "3614  LABEL_1  0.701536  Zz0lopT9EeyHuA5cIqn4NQ\n",
       "3615  LABEL_0  0.915861  3bL_2qkxEeyjPxJkzIUqCw\n",
       "3616  LABEL_1  0.700969  rw7_eqJuEeua9hJHpJ2HqQ\n",
       "\n",
       "[3617 rows x 3 columns]"
      ]
     },
     "execution_count": 41,
     "metadata": {},
     "output_type": "execute_result"
    }
   ],
   "source": [
    "pd.read_csv(join(ACC_DIR, 'en_skills_coursera_transformers_raw_acceptability.csv'))"
   ]
  },
  {
   "cell_type": "markdown",
   "metadata": {},
   "source": [
    "### Coursera: Translating skills extracted using  Pol Emploi extracted patterns"
   ]
  },
  {
   "cell_type": "code",
   "execution_count": 18,
   "metadata": {},
   "outputs": [],
   "source": [
    "df = pd.DataFrame(read_json_lines(join(ACC_DIR, 'en_skills_coursera_PE_transformers.jsonl')))"
   ]
  },
  {
   "cell_type": "code",
   "execution_count": 19,
   "metadata": {},
   "outputs": [],
   "source": [
    "df_ = get_clean_transformer_data(df)"
   ]
  },
  {
   "cell_type": "code",
   "execution_count": 20,
   "metadata": {},
   "outputs": [
    {
     "data": {
      "application/vnd.jupyter.widget-view+json": {
       "model_id": "df09223fd8344e208970fe06db9f12e9",
       "version_major": 2,
       "version_minor": 0
      },
      "text/plain": [
       "  0%|          | 0/2 [00:00<?, ?it/s]"
      ]
     },
     "metadata": {},
     "output_type": "display_data"
    }
   ],
   "source": [
    "all_extracted_acceptability = infer_(df_, classifier)"
   ]
  },
  {
   "cell_type": "code",
   "execution_count": 21,
   "metadata": {},
   "outputs": [],
   "source": [
    "pd.DataFrame(all_extracted_acceptability).to_csv(join(ACC_DIR, 'en_skills_coursera_PE_transformers_raw_acceptability.csv'), index = False)"
   ]
  },
  {
   "cell_type": "markdown",
   "metadata": {},
   "source": [
    "## Argos Acceptability"
   ]
  },
  {
   "cell_type": "markdown",
   "metadata": {},
   "source": [
    "### Job Offers: Translating skills extracted using ESCO extracted patterns"
   ]
  },
  {
   "cell_type": "code",
   "execution_count": 5,
   "metadata": {},
   "outputs": [],
   "source": [
    "df = pd.DataFrame(read_json_lines(join(ACC_DIR, 'en_skills_ESCO_argos.jsonl')))"
   ]
  },
  {
   "cell_type": "code",
   "execution_count": 6,
   "metadata": {},
   "outputs": [],
   "source": [
    "df_ = get_clean_transformer_data(df)"
   ]
  },
  {
   "cell_type": "code",
   "execution_count": 7,
   "metadata": {},
   "outputs": [
    {
     "data": {
      "application/vnd.jupyter.widget-view+json": {
       "model_id": "76a0e63b15fe409b9e46a3e49b3616b5",
       "version_major": 2,
       "version_minor": 0
      },
      "text/plain": [
       "  0%|          | 0/497 [00:00<?, ?it/s]"
      ]
     },
     "metadata": {},
     "output_type": "display_data"
    }
   ],
   "source": [
    "all_extracted_acceptability = infer_(df_, classifier)"
   ]
  },
  {
   "cell_type": "code",
   "execution_count": 8,
   "metadata": {},
   "outputs": [],
   "source": [
    "pd.DataFrame(all_extracted_acceptability).to_csv(join(ACC_DIR, 'en_skills_ESCO_argos_raw_acceptability.csv'), index = False)"
   ]
  },
  {
   "cell_type": "markdown",
   "metadata": {},
   "source": [
    "### Job Offers: Translating skills extracted using Pole Emploi extracted patterns"
   ]
  },
  {
   "cell_type": "code",
   "execution_count": 9,
   "metadata": {},
   "outputs": [],
   "source": [
    "df = pd.DataFrame(read_json_lines(join(ACC_DIR, 'en_skills_pole_emploi_argos.jsonl')))\n"
   ]
  },
  {
   "cell_type": "code",
   "execution_count": 10,
   "metadata": {},
   "outputs": [],
   "source": [
    "df_ = get_clean_transformer_data(df)"
   ]
  },
  {
   "cell_type": "code",
   "execution_count": 11,
   "metadata": {},
   "outputs": [
    {
     "data": {
      "application/vnd.jupyter.widget-view+json": {
       "model_id": "cd83347761e84cf78af6b0538b87ed10",
       "version_major": 2,
       "version_minor": 0
      },
      "text/plain": [
       "  0%|          | 0/397 [00:00<?, ?it/s]"
      ]
     },
     "metadata": {},
     "output_type": "display_data"
    }
   ],
   "source": [
    "all_extracted_acceptability = infer_(df_, classifier)"
   ]
  },
  {
   "cell_type": "code",
   "execution_count": 12,
   "metadata": {},
   "outputs": [],
   "source": [
    "pd.DataFrame(all_extracted_acceptability).to_csv(join(ACC_DIR, 'en_skills_pole_emploi_argos_raw_acceptability.csv'), index = False)"
   ]
  },
  {
   "cell_type": "code",
   "execution_count": 31,
   "metadata": {},
   "outputs": [
    {
     "data": {
      "text/html": [
       "<div>\n",
       "<style scoped>\n",
       "    .dataframe tbody tr th:only-of-type {\n",
       "        vertical-align: middle;\n",
       "    }\n",
       "\n",
       "    .dataframe tbody tr th {\n",
       "        vertical-align: top;\n",
       "    }\n",
       "\n",
       "    .dataframe thead th {\n",
       "        text-align: right;\n",
       "    }\n",
       "</style>\n",
       "<table border=\"1\" class=\"dataframe\">\n",
       "  <thead>\n",
       "    <tr style=\"text-align: right;\">\n",
       "      <th></th>\n",
       "      <th>label</th>\n",
       "      <th>score</th>\n",
       "      <th>id</th>\n",
       "    </tr>\n",
       "  </thead>\n",
       "  <tbody>\n",
       "    <tr>\n",
       "      <th>0</th>\n",
       "      <td>LABEL_1</td>\n",
       "      <td>0.581924</td>\n",
       "      <td>0</td>\n",
       "    </tr>\n",
       "    <tr>\n",
       "      <th>1</th>\n",
       "      <td>LABEL_1</td>\n",
       "      <td>0.841982</td>\n",
       "      <td>0</td>\n",
       "    </tr>\n",
       "    <tr>\n",
       "      <th>2</th>\n",
       "      <td>LABEL_1</td>\n",
       "      <td>0.756916</td>\n",
       "      <td>0</td>\n",
       "    </tr>\n",
       "    <tr>\n",
       "      <th>3</th>\n",
       "      <td>LABEL_1</td>\n",
       "      <td>0.687168</td>\n",
       "      <td>0</td>\n",
       "    </tr>\n",
       "    <tr>\n",
       "      <th>4</th>\n",
       "      <td>LABEL_1</td>\n",
       "      <td>0.765600</td>\n",
       "      <td>0</td>\n",
       "    </tr>\n",
       "    <tr>\n",
       "      <th>...</th>\n",
       "      <td>...</td>\n",
       "      <td>...</td>\n",
       "      <td>...</td>\n",
       "    </tr>\n",
       "    <tr>\n",
       "      <th>792483</th>\n",
       "      <td>LABEL_1</td>\n",
       "      <td>0.910732</td>\n",
       "      <td>51718</td>\n",
       "    </tr>\n",
       "    <tr>\n",
       "      <th>792484</th>\n",
       "      <td>LABEL_1</td>\n",
       "      <td>0.842067</td>\n",
       "      <td>51718</td>\n",
       "    </tr>\n",
       "    <tr>\n",
       "      <th>792485</th>\n",
       "      <td>LABEL_1</td>\n",
       "      <td>0.604587</td>\n",
       "      <td>51718</td>\n",
       "    </tr>\n",
       "    <tr>\n",
       "      <th>792486</th>\n",
       "      <td>LABEL_1</td>\n",
       "      <td>0.933235</td>\n",
       "      <td>51718</td>\n",
       "    </tr>\n",
       "    <tr>\n",
       "      <th>792487</th>\n",
       "      <td>LABEL_1</td>\n",
       "      <td>0.828462</td>\n",
       "      <td>51718</td>\n",
       "    </tr>\n",
       "  </tbody>\n",
       "</table>\n",
       "<p>792488 rows × 3 columns</p>\n",
       "</div>"
      ],
      "text/plain": [
       "          label     score     id\n",
       "0       LABEL_1  0.581924      0\n",
       "1       LABEL_1  0.841982      0\n",
       "2       LABEL_1  0.756916      0\n",
       "3       LABEL_1  0.687168      0\n",
       "4       LABEL_1  0.765600      0\n",
       "...         ...       ...    ...\n",
       "792483  LABEL_1  0.910732  51718\n",
       "792484  LABEL_1  0.842067  51718\n",
       "792485  LABEL_1  0.604587  51718\n",
       "792486  LABEL_1  0.933235  51718\n",
       "792487  LABEL_1  0.828462  51718\n",
       "\n",
       "[792488 rows x 3 columns]"
      ]
     },
     "execution_count": 31,
     "metadata": {},
     "output_type": "execute_result"
    }
   ],
   "source": [
    "pd.read_csv(join(ACC_DIR, 'en_skills_pole_emploi_argos_raw_acceptability.csv'))"
   ]
  },
  {
   "cell_type": "markdown",
   "metadata": {},
   "source": [
    "### Coursera: Translating skills extracted using  ESCO extracted patterns"
   ]
  },
  {
   "cell_type": "code",
   "execution_count": 27,
   "metadata": {},
   "outputs": [],
   "source": [
    "df = pd.DataFrame(read_json_lines(join(ACC_DIR, 'en_skills_coursera_argos.jsonl')))\n"
   ]
  },
  {
   "cell_type": "code",
   "execution_count": 28,
   "metadata": {},
   "outputs": [
    {
     "data": {
      "text/html": [
       "<div>\n",
       "<style scoped>\n",
       "    .dataframe tbody tr th:only-of-type {\n",
       "        vertical-align: middle;\n",
       "    }\n",
       "\n",
       "    .dataframe tbody tr th {\n",
       "        vertical-align: top;\n",
       "    }\n",
       "\n",
       "    .dataframe thead th {\n",
       "        text-align: right;\n",
       "    }\n",
       "</style>\n",
       "<table border=\"1\" class=\"dataframe\">\n",
       "  <thead>\n",
       "    <tr style=\"text-align: right;\">\n",
       "      <th></th>\n",
       "      <th>id</th>\n",
       "      <th>en_skills</th>\n",
       "    </tr>\n",
       "  </thead>\n",
       "  <tbody>\n",
       "    <tr>\n",
       "      <th>0</th>\n",
       "      <td>NJSdGN71Eeq4CApSN3OTvQ</td>\n",
       "      <td>[c#]</td>\n",
       "    </tr>\n",
       "    <tr>\n",
       "      <th>1</th>\n",
       "      <td>DMkcgX7LEeyRTg6FtAvfBw</td>\n",
       "      <td>[core competencies, different types]</td>\n",
       "    </tr>\n",
       "    <tr>\n",
       "      <th>2</th>\n",
       "      <td>YLO0oGSUEeyIUg4Qv2RsBQ</td>\n",
       "      <td>[]</td>\n",
       "    </tr>\n",
       "    <tr>\n",
       "      <th>3</th>\n",
       "      <td>69Bku0KoEeWZtA4u62x6lQ</td>\n",
       "      <td>[]</td>\n",
       "    </tr>\n",
       "    <tr>\n",
       "      <th>4</th>\n",
       "      <td>0HiU7Oe4EeWTAQ4yevf_oQ</td>\n",
       "      <td>[]</td>\n",
       "    </tr>\n",
       "    <tr>\n",
       "      <th>...</th>\n",
       "      <td>...</td>\n",
       "      <td>...</td>\n",
       "    </tr>\n",
       "    <tr>\n",
       "      <th>10175</th>\n",
       "      <td>QJlWBW30Eeq2hwr9iuARBQ</td>\n",
       "      <td>[]</td>\n",
       "    </tr>\n",
       "    <tr>\n",
       "      <th>10176</th>\n",
       "      <td>XSLeWQ6pEeu9ZBLzQTJEhw</td>\n",
       "      <td>[]</td>\n",
       "    </tr>\n",
       "    <tr>\n",
       "      <th>10177</th>\n",
       "      <td>7ErrkakwEeyxDg4ukgkVlw</td>\n",
       "      <td>[]</td>\n",
       "    </tr>\n",
       "    <tr>\n",
       "      <th>10178</th>\n",
       "      <td>xcqAU7oaEeq1DQ4cuiU-Sw</td>\n",
       "      <td>[]</td>\n",
       "    </tr>\n",
       "    <tr>\n",
       "      <th>10179</th>\n",
       "      <td>tJApe-HgEeeSKxKWkG_JMg</td>\n",
       "      <td>[]</td>\n",
       "    </tr>\n",
       "  </tbody>\n",
       "</table>\n",
       "<p>10180 rows × 2 columns</p>\n",
       "</div>"
      ],
      "text/plain": [
       "                           id                             en_skills\n",
       "0      NJSdGN71Eeq4CApSN3OTvQ                                  [c#]\n",
       "1      DMkcgX7LEeyRTg6FtAvfBw  [core competencies, different types]\n",
       "2      YLO0oGSUEeyIUg4Qv2RsBQ                                    []\n",
       "3      69Bku0KoEeWZtA4u62x6lQ                                    []\n",
       "4      0HiU7Oe4EeWTAQ4yevf_oQ                                    []\n",
       "...                       ...                                   ...\n",
       "10175  QJlWBW30Eeq2hwr9iuARBQ                                    []\n",
       "10176  XSLeWQ6pEeu9ZBLzQTJEhw                                    []\n",
       "10177  7ErrkakwEeyxDg4ukgkVlw                                    []\n",
       "10178  xcqAU7oaEeq1DQ4cuiU-Sw                                    []\n",
       "10179  tJApe-HgEeeSKxKWkG_JMg                                    []\n",
       "\n",
       "[10180 rows x 2 columns]"
      ]
     },
     "execution_count": 28,
     "metadata": {},
     "output_type": "execute_result"
    }
   ],
   "source": [
    "df"
   ]
  },
  {
   "cell_type": "code",
   "execution_count": 14,
   "metadata": {},
   "outputs": [],
   "source": [
    "df_ = get_clean_transformer_data(df)"
   ]
  },
  {
   "cell_type": "code",
   "execution_count": 15,
   "metadata": {},
   "outputs": [
    {
     "data": {
      "application/vnd.jupyter.widget-view+json": {
       "model_id": "0fcd91efbdf1470ca879a2d0839c9585",
       "version_major": 2,
       "version_minor": 0
      },
      "text/plain": [
       "  0%|          | 0/7 [00:00<?, ?it/s]"
      ]
     },
     "metadata": {},
     "output_type": "display_data"
    }
   ],
   "source": [
    "all_extracted_acceptability = infer_(df_, classifier)"
   ]
  },
  {
   "cell_type": "code",
   "execution_count": 16,
   "metadata": {},
   "outputs": [],
   "source": [
    "pd.DataFrame(all_extracted_acceptability).to_csv(join(ACC_DIR, 'en_skills_coursera_argos_raw_acceptability.csv'), index = False)"
   ]
  },
  {
   "cell_type": "code",
   "execution_count": 29,
   "metadata": {},
   "outputs": [
    {
     "data": {
      "text/html": [
       "<div>\n",
       "<style scoped>\n",
       "    .dataframe tbody tr th:only-of-type {\n",
       "        vertical-align: middle;\n",
       "    }\n",
       "\n",
       "    .dataframe tbody tr th {\n",
       "        vertical-align: top;\n",
       "    }\n",
       "\n",
       "    .dataframe thead th {\n",
       "        text-align: right;\n",
       "    }\n",
       "</style>\n",
       "<table border=\"1\" class=\"dataframe\">\n",
       "  <thead>\n",
       "    <tr style=\"text-align: right;\">\n",
       "      <th></th>\n",
       "      <th>label</th>\n",
       "      <th>score</th>\n",
       "      <th>id</th>\n",
       "    </tr>\n",
       "  </thead>\n",
       "  <tbody>\n",
       "    <tr>\n",
       "      <th>0</th>\n",
       "      <td>LABEL_1</td>\n",
       "      <td>0.929184</td>\n",
       "      <td>NJSdGN71Eeq4CApSN3OTvQ</td>\n",
       "    </tr>\n",
       "    <tr>\n",
       "      <th>1</th>\n",
       "      <td>LABEL_1</td>\n",
       "      <td>0.886631</td>\n",
       "      <td>DMkcgX7LEeyRTg6FtAvfBw</td>\n",
       "    </tr>\n",
       "    <tr>\n",
       "      <th>2</th>\n",
       "      <td>LABEL_1</td>\n",
       "      <td>0.916817</td>\n",
       "      <td>DMkcgX7LEeyRTg6FtAvfBw</td>\n",
       "    </tr>\n",
       "    <tr>\n",
       "      <th>3</th>\n",
       "      <td>LABEL_1</td>\n",
       "      <td>0.743641</td>\n",
       "      <td>YLO0oGSUEeyIUg4Qv2RsBQ</td>\n",
       "    </tr>\n",
       "    <tr>\n",
       "      <th>4</th>\n",
       "      <td>LABEL_1</td>\n",
       "      <td>0.743641</td>\n",
       "      <td>69Bku0KoEeWZtA4u62x6lQ</td>\n",
       "    </tr>\n",
       "    <tr>\n",
       "      <th>...</th>\n",
       "      <td>...</td>\n",
       "      <td>...</td>\n",
       "      <td>...</td>\n",
       "    </tr>\n",
       "    <tr>\n",
       "      <th>12521</th>\n",
       "      <td>LABEL_1</td>\n",
       "      <td>0.743641</td>\n",
       "      <td>QJlWBW30Eeq2hwr9iuARBQ</td>\n",
       "    </tr>\n",
       "    <tr>\n",
       "      <th>12522</th>\n",
       "      <td>LABEL_1</td>\n",
       "      <td>0.743641</td>\n",
       "      <td>XSLeWQ6pEeu9ZBLzQTJEhw</td>\n",
       "    </tr>\n",
       "    <tr>\n",
       "      <th>12523</th>\n",
       "      <td>LABEL_1</td>\n",
       "      <td>0.743641</td>\n",
       "      <td>7ErrkakwEeyxDg4ukgkVlw</td>\n",
       "    </tr>\n",
       "    <tr>\n",
       "      <th>12524</th>\n",
       "      <td>LABEL_1</td>\n",
       "      <td>0.743641</td>\n",
       "      <td>xcqAU7oaEeq1DQ4cuiU-Sw</td>\n",
       "    </tr>\n",
       "    <tr>\n",
       "      <th>12525</th>\n",
       "      <td>LABEL_1</td>\n",
       "      <td>0.743641</td>\n",
       "      <td>tJApe-HgEeeSKxKWkG_JMg</td>\n",
       "    </tr>\n",
       "  </tbody>\n",
       "</table>\n",
       "<p>12526 rows × 3 columns</p>\n",
       "</div>"
      ],
      "text/plain": [
       "         label     score                      id\n",
       "0      LABEL_1  0.929184  NJSdGN71Eeq4CApSN3OTvQ\n",
       "1      LABEL_1  0.886631  DMkcgX7LEeyRTg6FtAvfBw\n",
       "2      LABEL_1  0.916817  DMkcgX7LEeyRTg6FtAvfBw\n",
       "3      LABEL_1  0.743641  YLO0oGSUEeyIUg4Qv2RsBQ\n",
       "4      LABEL_1  0.743641  69Bku0KoEeWZtA4u62x6lQ\n",
       "...        ...       ...                     ...\n",
       "12521  LABEL_1  0.743641  QJlWBW30Eeq2hwr9iuARBQ\n",
       "12522  LABEL_1  0.743641  XSLeWQ6pEeu9ZBLzQTJEhw\n",
       "12523  LABEL_1  0.743641  7ErrkakwEeyxDg4ukgkVlw\n",
       "12524  LABEL_1  0.743641  xcqAU7oaEeq1DQ4cuiU-Sw\n",
       "12525  LABEL_1  0.743641  tJApe-HgEeeSKxKWkG_JMg\n",
       "\n",
       "[12526 rows x 3 columns]"
      ]
     },
     "execution_count": 29,
     "metadata": {},
     "output_type": "execute_result"
    }
   ],
   "source": [
    "pd.read_csv(join(ACC_DIR, 'en_skills_coursera_argos_raw_acceptability.csv'))"
   ]
  },
  {
   "cell_type": "markdown",
   "metadata": {},
   "source": [
    "### Coursera: Translating skills extracted using  Pol Emploi extracted patterns"
   ]
  },
  {
   "cell_type": "code",
   "execution_count": 25,
   "metadata": {},
   "outputs": [],
   "source": [
    "df = pd.DataFrame(read_json_lines(join(ACC_DIR, 'en_skills_coursera_PE_argos.jsonl')))"
   ]
  },
  {
   "cell_type": "code",
   "execution_count": 26,
   "metadata": {},
   "outputs": [
    {
     "data": {
      "text/html": [
       "<div>\n",
       "<style scoped>\n",
       "    .dataframe tbody tr th:only-of-type {\n",
       "        vertical-align: middle;\n",
       "    }\n",
       "\n",
       "    .dataframe tbody tr th {\n",
       "        vertical-align: top;\n",
       "    }\n",
       "\n",
       "    .dataframe thead th {\n",
       "        text-align: right;\n",
       "    }\n",
       "</style>\n",
       "<table border=\"1\" class=\"dataframe\">\n",
       "  <thead>\n",
       "    <tr style=\"text-align: right;\">\n",
       "      <th></th>\n",
       "      <th>id</th>\n",
       "      <th>en_skills</th>\n",
       "    </tr>\n",
       "  </thead>\n",
       "  <tbody>\n",
       "    <tr>\n",
       "      <th>0</th>\n",
       "      <td>NJSdGN71Eeq4CApSN3OTvQ</td>\n",
       "      <td>[]</td>\n",
       "    </tr>\n",
       "    <tr>\n",
       "      <th>1</th>\n",
       "      <td>DMkcgX7LEeyRTg6FtAvfBw</td>\n",
       "      <td>[different types, integrate applications, dash...</td>\n",
       "    </tr>\n",
       "    <tr>\n",
       "      <th>2</th>\n",
       "      <td>YLO0oGSUEeyIUg4Qv2RsBQ</td>\n",
       "      <td>[]</td>\n",
       "    </tr>\n",
       "    <tr>\n",
       "      <th>3</th>\n",
       "      <td>69Bku0KoEeWZtA4u62x6lQ</td>\n",
       "      <td>[business]</td>\n",
       "    </tr>\n",
       "    <tr>\n",
       "      <th>4</th>\n",
       "      <td>0HiU7Oe4EeWTAQ4yevf_oQ</td>\n",
       "      <td>[]</td>\n",
       "    </tr>\n",
       "    <tr>\n",
       "      <th>...</th>\n",
       "      <td>...</td>\n",
       "      <td>...</td>\n",
       "    </tr>\n",
       "    <tr>\n",
       "      <th>10175</th>\n",
       "      <td>QJlWBW30Eeq2hwr9iuARBQ</td>\n",
       "      <td>[]</td>\n",
       "    </tr>\n",
       "    <tr>\n",
       "      <th>10176</th>\n",
       "      <td>XSLeWQ6pEeu9ZBLzQTJEhw</td>\n",
       "      <td>[]</td>\n",
       "    </tr>\n",
       "    <tr>\n",
       "      <th>10177</th>\n",
       "      <td>7ErrkakwEeyxDg4ukgkVlw</td>\n",
       "      <td>[]</td>\n",
       "    </tr>\n",
       "    <tr>\n",
       "      <th>10178</th>\n",
       "      <td>xcqAU7oaEeq1DQ4cuiU-Sw</td>\n",
       "      <td>[]</td>\n",
       "    </tr>\n",
       "    <tr>\n",
       "      <th>10179</th>\n",
       "      <td>tJApe-HgEeeSKxKWkG_JMg</td>\n",
       "      <td>[]</td>\n",
       "    </tr>\n",
       "  </tbody>\n",
       "</table>\n",
       "<p>10180 rows × 2 columns</p>\n",
       "</div>"
      ],
      "text/plain": [
       "                           id  \\\n",
       "0      NJSdGN71Eeq4CApSN3OTvQ   \n",
       "1      DMkcgX7LEeyRTg6FtAvfBw   \n",
       "2      YLO0oGSUEeyIUg4Qv2RsBQ   \n",
       "3      69Bku0KoEeWZtA4u62x6lQ   \n",
       "4      0HiU7Oe4EeWTAQ4yevf_oQ   \n",
       "...                       ...   \n",
       "10175  QJlWBW30Eeq2hwr9iuARBQ   \n",
       "10176  XSLeWQ6pEeu9ZBLzQTJEhw   \n",
       "10177  7ErrkakwEeyxDg4ukgkVlw   \n",
       "10178  xcqAU7oaEeq1DQ4cuiU-Sw   \n",
       "10179  tJApe-HgEeeSKxKWkG_JMg   \n",
       "\n",
       "                                               en_skills  \n",
       "0                                                     []  \n",
       "1      [different types, integrate applications, dash...  \n",
       "2                                                     []  \n",
       "3                                             [business]  \n",
       "4                                                     []  \n",
       "...                                                  ...  \n",
       "10175                                                 []  \n",
       "10176                                                 []  \n",
       "10177                                                 []  \n",
       "10178                                                 []  \n",
       "10179                                                 []  \n",
       "\n",
       "[10180 rows x 2 columns]"
      ]
     },
     "execution_count": 26,
     "metadata": {},
     "output_type": "execute_result"
    }
   ],
   "source": [
    "df"
   ]
  },
  {
   "cell_type": "code",
   "execution_count": 18,
   "metadata": {},
   "outputs": [],
   "source": [
    "df_ = get_clean_transformer_data(df)"
   ]
  },
  {
   "cell_type": "code",
   "execution_count": 19,
   "metadata": {},
   "outputs": [
    {
     "data": {
      "application/vnd.jupyter.widget-view+json": {
       "model_id": "ed8eb739b3fc4e1ea22f8a62dc42a9a3",
       "version_major": 2,
       "version_minor": 0
      },
      "text/plain": [
       "  0%|          | 0/6 [00:00<?, ?it/s]"
      ]
     },
     "metadata": {},
     "output_type": "display_data"
    }
   ],
   "source": [
    "all_extracted_acceptability = infer_(df_, classifier)"
   ]
  },
  {
   "cell_type": "code",
   "execution_count": 20,
   "metadata": {},
   "outputs": [],
   "source": [
    "pd.DataFrame(all_extracted_acceptability).to_csv(join(ACC_DIR, 'en_skills_coursera_PE_argos_raw_acceptability.csv'), index = False)"
   ]
  },
  {
   "cell_type": "code",
   "execution_count": 30,
   "metadata": {},
   "outputs": [
    {
     "data": {
      "text/html": [
       "<div>\n",
       "<style scoped>\n",
       "    .dataframe tbody tr th:only-of-type {\n",
       "        vertical-align: middle;\n",
       "    }\n",
       "\n",
       "    .dataframe tbody tr th {\n",
       "        vertical-align: top;\n",
       "    }\n",
       "\n",
       "    .dataframe thead th {\n",
       "        text-align: right;\n",
       "    }\n",
       "</style>\n",
       "<table border=\"1\" class=\"dataframe\">\n",
       "  <thead>\n",
       "    <tr style=\"text-align: right;\">\n",
       "      <th></th>\n",
       "      <th>label</th>\n",
       "      <th>score</th>\n",
       "      <th>id</th>\n",
       "    </tr>\n",
       "  </thead>\n",
       "  <tbody>\n",
       "    <tr>\n",
       "      <th>0</th>\n",
       "      <td>LABEL_1</td>\n",
       "      <td>0.743641</td>\n",
       "      <td>NJSdGN71Eeq4CApSN3OTvQ</td>\n",
       "    </tr>\n",
       "    <tr>\n",
       "      <th>1</th>\n",
       "      <td>LABEL_1</td>\n",
       "      <td>0.916817</td>\n",
       "      <td>DMkcgX7LEeyRTg6FtAvfBw</td>\n",
       "    </tr>\n",
       "    <tr>\n",
       "      <th>2</th>\n",
       "      <td>LABEL_1</td>\n",
       "      <td>0.782994</td>\n",
       "      <td>DMkcgX7LEeyRTg6FtAvfBw</td>\n",
       "    </tr>\n",
       "    <tr>\n",
       "      <th>3</th>\n",
       "      <td>LABEL_1</td>\n",
       "      <td>0.688642</td>\n",
       "      <td>DMkcgX7LEeyRTg6FtAvfBw</td>\n",
       "    </tr>\n",
       "    <tr>\n",
       "      <th>4</th>\n",
       "      <td>LABEL_1</td>\n",
       "      <td>0.743641</td>\n",
       "      <td>YLO0oGSUEeyIUg4Qv2RsBQ</td>\n",
       "    </tr>\n",
       "    <tr>\n",
       "      <th>...</th>\n",
       "      <td>...</td>\n",
       "      <td>...</td>\n",
       "      <td>...</td>\n",
       "    </tr>\n",
       "    <tr>\n",
       "      <th>11458</th>\n",
       "      <td>LABEL_1</td>\n",
       "      <td>0.743641</td>\n",
       "      <td>QJlWBW30Eeq2hwr9iuARBQ</td>\n",
       "    </tr>\n",
       "    <tr>\n",
       "      <th>11459</th>\n",
       "      <td>LABEL_1</td>\n",
       "      <td>0.743641</td>\n",
       "      <td>XSLeWQ6pEeu9ZBLzQTJEhw</td>\n",
       "    </tr>\n",
       "    <tr>\n",
       "      <th>11460</th>\n",
       "      <td>LABEL_1</td>\n",
       "      <td>0.743641</td>\n",
       "      <td>7ErrkakwEeyxDg4ukgkVlw</td>\n",
       "    </tr>\n",
       "    <tr>\n",
       "      <th>11461</th>\n",
       "      <td>LABEL_1</td>\n",
       "      <td>0.743641</td>\n",
       "      <td>xcqAU7oaEeq1DQ4cuiU-Sw</td>\n",
       "    </tr>\n",
       "    <tr>\n",
       "      <th>11462</th>\n",
       "      <td>LABEL_1</td>\n",
       "      <td>0.743641</td>\n",
       "      <td>tJApe-HgEeeSKxKWkG_JMg</td>\n",
       "    </tr>\n",
       "  </tbody>\n",
       "</table>\n",
       "<p>11463 rows × 3 columns</p>\n",
       "</div>"
      ],
      "text/plain": [
       "         label     score                      id\n",
       "0      LABEL_1  0.743641  NJSdGN71Eeq4CApSN3OTvQ\n",
       "1      LABEL_1  0.916817  DMkcgX7LEeyRTg6FtAvfBw\n",
       "2      LABEL_1  0.782994  DMkcgX7LEeyRTg6FtAvfBw\n",
       "3      LABEL_1  0.688642  DMkcgX7LEeyRTg6FtAvfBw\n",
       "4      LABEL_1  0.743641  YLO0oGSUEeyIUg4Qv2RsBQ\n",
       "...        ...       ...                     ...\n",
       "11458  LABEL_1  0.743641  QJlWBW30Eeq2hwr9iuARBQ\n",
       "11459  LABEL_1  0.743641  XSLeWQ6pEeu9ZBLzQTJEhw\n",
       "11460  LABEL_1  0.743641  7ErrkakwEeyxDg4ukgkVlw\n",
       "11461  LABEL_1  0.743641  xcqAU7oaEeq1DQ4cuiU-Sw\n",
       "11462  LABEL_1  0.743641  tJApe-HgEeeSKxKWkG_JMg\n",
       "\n",
       "[11463 rows x 3 columns]"
      ]
     },
     "execution_count": 30,
     "metadata": {},
     "output_type": "execute_result"
    }
   ],
   "source": [
    "pd.read_csv(join(ACC_DIR, 'en_skills_coursera_PE_argos_raw_acceptability.csv'))"
   ]
  },
  {
   "cell_type": "markdown",
   "metadata": {},
   "source": [
    "## Process Acceptability"
   ]
  },
  {
   "cell_type": "code",
   "execution_count": 24,
   "metadata": {},
   "outputs": [],
   "source": [
    "accept_df = pd.read_csv(join(ACC_DIR, 'en_skills_ESCO_transformers_raw_acceptability.csv'))"
   ]
  },
  {
   "cell_type": "code",
   "execution_count": 25,
   "metadata": {},
   "outputs": [
    {
     "data": {
      "text/plain": [
       "id\n",
       "0         [LABEL_1, LABEL_0, LABEL_1, LABEL_1, LABEL_1, ...\n",
       "1                                                 [LABEL_1]\n",
       "2                                                 [LABEL_1]\n",
       "110                                               [LABEL_1]\n",
       "1015                                              [LABEL_1]\n",
       "                                ...                        \n",
       "142148                 [LABEL_1, LABEL_1, LABEL_0, LABEL_1]\n",
       "142149                                            [LABEL_1]\n",
       "142150    [LABEL_1, LABEL_1, LABEL_0, LABEL_1, LABEL_1, ...\n",
       "142151    [LABEL_1, LABEL_1, LABEL_1, LABEL_1, LABEL_1, ...\n",
       "142152    [LABEL_0, LABEL_1, LABEL_0, LABEL_1, LABEL_1, ...\n",
       "Name: label, Length: 115722, dtype: object"
      ]
     },
     "execution_count": 25,
     "metadata": {},
     "output_type": "execute_result"
    }
   ],
   "source": [
    "pd.DataFrame(accept_df).groupby('id')['label'].apply(list)\n"
   ]
  },
  {
   "cell_type": "code",
   "execution_count": 26,
   "metadata": {},
   "outputs": [
    {
     "data": {
      "text/plain": [
       "id\n",
       "0         [0.8419815301895142, 0.7044380307197571, 0.815...\n",
       "1                                      [0.7436407804489136]\n",
       "2                                      [0.7436407804489136]\n",
       "110                                    [0.7436407804489136]\n",
       "1015                                   [0.7579735517501831]\n",
       "                                ...                        \n",
       "142148    [0.5893144011497498, 0.6201562285423279, 0.561...\n",
       "142149                                 [0.5525694489479065]\n",
       "142150    [0.8487229347229004, 0.8083083033561707, 0.737...\n",
       "142151    [0.958845555782318, 0.6138927936553955, 0.9559...\n",
       "142152    [0.7044380307197571, 0.7916160225868225, 0.511...\n",
       "Name: score, Length: 115722, dtype: object"
      ]
     },
     "execution_count": 26,
     "metadata": {},
     "output_type": "execute_result"
    }
   ],
   "source": [
    "pd.DataFrame(accept_df).groupby('id')['score'].apply(list)\n"
   ]
  },
  {
   "cell_type": "code",
   "execution_count": 36,
   "metadata": {},
   "outputs": [],
   "source": [
    "concate_tables(accept_df).to_csv(join(ACC_DIR,'full_accept_results_en_skills_ESCO.csv'))"
   ]
  },
  {
   "cell_type": "code",
   "execution_count": 10,
   "metadata": {
    "id": "hwoW15OpB4ex"
   },
   "outputs": [],
   "source": [
    "# padding='max_length', truncation=True"
   ]
  },
  {
   "cell_type": "code",
   "execution_count": 22,
   "metadata": {},
   "outputs": [
    {
     "data": {
      "text/html": [
       "<div>\n",
       "<style scoped>\n",
       "    .dataframe tbody tr th:only-of-type {\n",
       "        vertical-align: middle;\n",
       "    }\n",
       "\n",
       "    .dataframe tbody tr th {\n",
       "        vertical-align: top;\n",
       "    }\n",
       "\n",
       "    .dataframe thead th {\n",
       "        text-align: right;\n",
       "    }\n",
       "</style>\n",
       "<table border=\"1\" class=\"dataframe\">\n",
       "  <thead>\n",
       "    <tr style=\"text-align: right;\">\n",
       "      <th></th>\n",
       "      <th>job_offer_id</th>\n",
       "      <th>skills</th>\n",
       "      <th>en_skills</th>\n",
       "      <th>labels</th>\n",
       "      <th>scores</th>\n",
       "    </tr>\n",
       "  </thead>\n",
       "  <tbody>\n",
       "    <tr>\n",
       "      <th>0</th>\n",
       "      <td>0</td>\n",
       "      <td>utilisation de matériel|s’|résoudre des incide...</td>\n",
       "      <td>['use of equipment', 's-----------------------...</td>\n",
       "      <td>['LABEL_1', 'LABEL_0', 'LABEL_1', 'LABEL_1', '...</td>\n",
       "      <td>[0.8419815301895142, 0.7044380307197571, 0.815...</td>\n",
       "    </tr>\n",
       "    <tr>\n",
       "      <th>1</th>\n",
       "      <td>1</td>\n",
       "      <td>NaN</td>\n",
       "      <td>[\"I'm sorry, but I don't know.\"]</td>\n",
       "      <td>['LABEL_1']</td>\n",
       "      <td>[0.7436407804489136]</td>\n",
       "    </tr>\n",
       "    <tr>\n",
       "      <th>2</th>\n",
       "      <td>2</td>\n",
       "      <td>NaN</td>\n",
       "      <td>[\"I'm sorry, but I don't know.\"]</td>\n",
       "      <td>['LABEL_1']</td>\n",
       "      <td>[0.7436407804489136]</td>\n",
       "    </tr>\n",
       "    <tr>\n",
       "      <th>3</th>\n",
       "      <td>110</td>\n",
       "      <td>NaN</td>\n",
       "      <td>[\"I'm sorry, but I don't know.\"]</td>\n",
       "      <td>['LABEL_1']</td>\n",
       "      <td>[0.7436407804489136]</td>\n",
       "    </tr>\n",
       "    <tr>\n",
       "      <th>4</th>\n",
       "      <td>1015</td>\n",
       "      <td>mécanique</td>\n",
       "      <td>['mechanical']</td>\n",
       "      <td>['LABEL_1']</td>\n",
       "      <td>[0.7579735517501831]</td>\n",
       "    </tr>\n",
       "    <tr>\n",
       "      <th>...</th>\n",
       "      <td>...</td>\n",
       "      <td>...</td>\n",
       "      <td>...</td>\n",
       "      <td>...</td>\n",
       "      <td>...</td>\n",
       "    </tr>\n",
       "    <tr>\n",
       "      <th>123986</th>\n",
       "      <td>52062</td>\n",
       "      <td>bonne connaissance|assurer la surveillance des...</td>\n",
       "      <td>['good knowledge', 'ensure monitoring of appli...</td>\n",
       "      <td>['LABEL_0', 'LABEL_1', 'LABEL_1', 'LABEL_0', '...</td>\n",
       "      <td>[0.5611529350280762, 0.8978632688522339, 0.676...</td>\n",
       "    </tr>\n",
       "    <tr>\n",
       "      <th>123987</th>\n",
       "      <td>51878</td>\n",
       "      <td>assurer le contrôle de la disponibilité au niv...</td>\n",
       "      <td>['ensuring control of stock availability', 'go...</td>\n",
       "      <td>['LABEL_1', 'LABEL_0', 'LABEL_0', 'LABEL_1', '...</td>\n",
       "      <td>[0.9361907243728638, 0.5611529350280762, 0.682...</td>\n",
       "    </tr>\n",
       "    <tr>\n",
       "      <th>123988</th>\n",
       "      <td>51877</td>\n",
       "      <td>s’|maîtriser les règles de sécurité|suivre des...</td>\n",
       "      <td>['s-------------------------------------------...</td>\n",
       "      <td>['LABEL_0', 'LABEL_1', 'LABEL_1', 'LABEL_1', '...</td>\n",
       "      <td>[0.7044380307197571, 0.8789429068565369, 0.831...</td>\n",
       "    </tr>\n",
       "    <tr>\n",
       "      <th>123989</th>\n",
       "      <td>51765</td>\n",
       "      <td>management de la qualité|outil informatique|as...</td>\n",
       "      <td>['quality management', 'IT tool', 'ensuring th...</td>\n",
       "      <td>['LABEL_1', 'LABEL_0', 'LABEL_1', 'LABEL_1']</td>\n",
       "      <td>[0.742351770401001, 0.9530846476554872, 0.8749...</td>\n",
       "    </tr>\n",
       "    <tr>\n",
       "      <th>123990</th>\n",
       "      <td>51718</td>\n",
       "      <td>management de la qualité|appliquer les process...</td>\n",
       "      <td>['quality management', 'apply internal process...</td>\n",
       "      <td>['LABEL_1', 'LABEL_1', 'LABEL_1', 'LABEL_1', '...</td>\n",
       "      <td>[0.742351770401001, 0.8387635946273804, 0.5676...</td>\n",
       "    </tr>\n",
       "  </tbody>\n",
       "</table>\n",
       "<p>123991 rows × 5 columns</p>\n",
       "</div>"
      ],
      "text/plain": [
       "        job_offer_id                                             skills  \\\n",
       "0                  0  utilisation de matériel|s’|résoudre des incide...   \n",
       "1                  1                                                NaN   \n",
       "2                  2                                                NaN   \n",
       "3                110                                                NaN   \n",
       "4               1015                                          mécanique   \n",
       "...              ...                                                ...   \n",
       "123986         52062  bonne connaissance|assurer la surveillance des...   \n",
       "123987         51878  assurer le contrôle de la disponibilité au niv...   \n",
       "123988         51877  s’|maîtriser les règles de sécurité|suivre des...   \n",
       "123989         51765  management de la qualité|outil informatique|as...   \n",
       "123990         51718  management de la qualité|appliquer les process...   \n",
       "\n",
       "                                                en_skills  \\\n",
       "0       ['use of equipment', 's-----------------------...   \n",
       "1                        [\"I'm sorry, but I don't know.\"]   \n",
       "2                        [\"I'm sorry, but I don't know.\"]   \n",
       "3                        [\"I'm sorry, but I don't know.\"]   \n",
       "4                                          ['mechanical']   \n",
       "...                                                   ...   \n",
       "123986  ['good knowledge', 'ensure monitoring of appli...   \n",
       "123987  ['ensuring control of stock availability', 'go...   \n",
       "123988  ['s-------------------------------------------...   \n",
       "123989  ['quality management', 'IT tool', 'ensuring th...   \n",
       "123990  ['quality management', 'apply internal process...   \n",
       "\n",
       "                                                   labels  \\\n",
       "0       ['LABEL_1', 'LABEL_0', 'LABEL_1', 'LABEL_1', '...   \n",
       "1                                             ['LABEL_1']   \n",
       "2                                             ['LABEL_1']   \n",
       "3                                             ['LABEL_1']   \n",
       "4                                             ['LABEL_1']   \n",
       "...                                                   ...   \n",
       "123986  ['LABEL_0', 'LABEL_1', 'LABEL_1', 'LABEL_0', '...   \n",
       "123987  ['LABEL_1', 'LABEL_0', 'LABEL_0', 'LABEL_1', '...   \n",
       "123988  ['LABEL_0', 'LABEL_1', 'LABEL_1', 'LABEL_1', '...   \n",
       "123989       ['LABEL_1', 'LABEL_0', 'LABEL_1', 'LABEL_1']   \n",
       "123990  ['LABEL_1', 'LABEL_1', 'LABEL_1', 'LABEL_1', '...   \n",
       "\n",
       "                                                   scores  \n",
       "0       [0.8419815301895142, 0.7044380307197571, 0.815...  \n",
       "1                                    [0.7436407804489136]  \n",
       "2                                    [0.7436407804489136]  \n",
       "3                                    [0.7436407804489136]  \n",
       "4                                    [0.7579735517501831]  \n",
       "...                                                   ...  \n",
       "123986  [0.5611529350280762, 0.8978632688522339, 0.676...  \n",
       "123987  [0.9361907243728638, 0.5611529350280762, 0.682...  \n",
       "123988  [0.7044380307197571, 0.8789429068565369, 0.831...  \n",
       "123989  [0.742351770401001, 0.9530846476554872, 0.8749...  \n",
       "123990  [0.742351770401001, 0.8387635946273804, 0.5676...  \n",
       "\n",
       "[123991 rows x 5 columns]"
      ]
     },
     "execution_count": 22,
     "metadata": {},
     "output_type": "execute_result"
    }
   ],
   "source": [
    "pd.read_csv(join(ACC_DIR,'full_accept_results_en_skills_ESCO.csv'))"
   ]
  },
  {
   "cell_type": "code",
   "execution_count": 12,
   "metadata": {
    "id": "KsWXDJ-FCWzm"
   },
   "outputs": [
    {
     "data": {
      "application/vnd.jupyter.widget-view+json": {
       "model_id": "a6bfc9d1fd9d47baaaf1b8e4cea6b5fa",
       "version_major": 2,
       "version_minor": 0
      },
      "text/plain": [
       "  0%|          | 0/115722 [00:00<?, ?it/s]"
      ]
     },
     "metadata": {},
     "output_type": "display_data"
    }
   ],
   "source": [
    "classify_acceptability(df, join(ACC_DIR, 'en_skills_ESCO_transformers_acceptability.jsonl'))"
   ]
  },
  {
   "cell_type": "code",
   "execution_count": 27,
   "metadata": {
    "id": "YHkAEyNMyzQ4"
   },
   "outputs": [
    {
     "ename": "JSONDecodeError",
     "evalue": "Expecting value: line 1 column 2 (char 1)",
     "output_type": "error",
     "traceback": [
      "\u001b[0;31m---------------------------------------------------------------------------\u001b[0m",
      "\u001b[0;31mJSONDecodeError\u001b[0m                           Traceback (most recent call last)",
      "Cell \u001b[0;32mIn[27], line 1\u001b[0m\n\u001b[0;32m----> 1\u001b[0m \u001b[43mpd\u001b[49m\u001b[38;5;241;43m.\u001b[39;49m\u001b[43mread_csv\u001b[49m\u001b[43m(\u001b[49m\u001b[43mjoin\u001b[49m\u001b[43m(\u001b[49m\u001b[43mDATA_FILES\u001b[49m\u001b[43m,\u001b[49m\u001b[38;5;124;43m'\u001b[39;49m\u001b[38;5;124;43mfull_accept_results_en_skills_ESCO.csv\u001b[39;49m\u001b[38;5;124;43m'\u001b[39;49m\u001b[43m)\u001b[49m\u001b[43m)\u001b[49m\u001b[43m[\u001b[49m\u001b[38;5;124;43m'\u001b[39;49m\u001b[38;5;124;43men_skills\u001b[39;49m\u001b[38;5;124;43m'\u001b[39;49m\u001b[43m]\u001b[49m\u001b[38;5;241;43m.\u001b[39;49m\u001b[43mmap\u001b[49m\u001b[43m(\u001b[49m\u001b[43mjson\u001b[49m\u001b[38;5;241;43m.\u001b[39;49m\u001b[43mloads\u001b[49m\u001b[43m)\u001b[49m\n",
      "File \u001b[0;32m~/anaconda3/envs/TestEnv/lib/python3.9/site-packages/pandas/core/series.py:3909\u001b[0m, in \u001b[0;36mSeries.map\u001b[0;34m(self, arg, na_action)\u001b[0m\n\u001b[1;32m   3834\u001b[0m \u001b[38;5;28;01mdef\u001b[39;00m \u001b[38;5;21mmap\u001b[39m(\u001b[38;5;28mself\u001b[39m, arg, na_action\u001b[38;5;241m=\u001b[39m\u001b[38;5;28;01mNone\u001b[39;00m) \u001b[38;5;241m-\u001b[39m\u001b[38;5;241m>\u001b[39m \u001b[38;5;124m\"\u001b[39m\u001b[38;5;124mSeries\u001b[39m\u001b[38;5;124m\"\u001b[39m:\n\u001b[1;32m   3835\u001b[0m     \u001b[38;5;124;03m\"\"\"\u001b[39;00m\n\u001b[1;32m   3836\u001b[0m \u001b[38;5;124;03m    Map values of Series according to input correspondence.\u001b[39;00m\n\u001b[1;32m   3837\u001b[0m \n\u001b[0;32m   (...)\u001b[0m\n\u001b[1;32m   3907\u001b[0m \u001b[38;5;124;03m    dtype: object\u001b[39;00m\n\u001b[1;32m   3908\u001b[0m \u001b[38;5;124;03m    \"\"\"\u001b[39;00m\n\u001b[0;32m-> 3909\u001b[0m     new_values \u001b[38;5;241m=\u001b[39m \u001b[38;5;28;43msuper\u001b[39;49m\u001b[43m(\u001b[49m\u001b[43m)\u001b[49m\u001b[38;5;241;43m.\u001b[39;49m\u001b[43m_map_values\u001b[49m\u001b[43m(\u001b[49m\u001b[43marg\u001b[49m\u001b[43m,\u001b[49m\u001b[43m \u001b[49m\u001b[43mna_action\u001b[49m\u001b[38;5;241;43m=\u001b[39;49m\u001b[43mna_action\u001b[49m\u001b[43m)\u001b[49m\n\u001b[1;32m   3910\u001b[0m     \u001b[38;5;28;01mreturn\u001b[39;00m \u001b[38;5;28mself\u001b[39m\u001b[38;5;241m.\u001b[39m_constructor(new_values, index\u001b[38;5;241m=\u001b[39m\u001b[38;5;28mself\u001b[39m\u001b[38;5;241m.\u001b[39mindex)\u001b[38;5;241m.\u001b[39m__finalize__(\n\u001b[1;32m   3911\u001b[0m         \u001b[38;5;28mself\u001b[39m, method\u001b[38;5;241m=\u001b[39m\u001b[38;5;124m\"\u001b[39m\u001b[38;5;124mmap\u001b[39m\u001b[38;5;124m\"\u001b[39m\n\u001b[1;32m   3912\u001b[0m     )\n",
      "File \u001b[0;32m~/anaconda3/envs/TestEnv/lib/python3.9/site-packages/pandas/core/base.py:937\u001b[0m, in \u001b[0;36mIndexOpsMixin._map_values\u001b[0;34m(self, mapper, na_action)\u001b[0m\n\u001b[1;32m    934\u001b[0m         \u001b[38;5;28;01mraise\u001b[39;00m \u001b[38;5;167;01mValueError\u001b[39;00m(msg)\n\u001b[1;32m    936\u001b[0m \u001b[38;5;66;03m# mapper is a function\u001b[39;00m\n\u001b[0;32m--> 937\u001b[0m new_values \u001b[38;5;241m=\u001b[39m \u001b[43mmap_f\u001b[49m\u001b[43m(\u001b[49m\u001b[43mvalues\u001b[49m\u001b[43m,\u001b[49m\u001b[43m \u001b[49m\u001b[43mmapper\u001b[49m\u001b[43m)\u001b[49m\n\u001b[1;32m    939\u001b[0m \u001b[38;5;28;01mreturn\u001b[39;00m new_values\n",
      "File \u001b[0;32mpandas/_libs/lib.pyx:2467\u001b[0m, in \u001b[0;36mpandas._libs.lib.map_infer\u001b[0;34m()\u001b[0m\n",
      "File \u001b[0;32m~/anaconda3/envs/TestEnv/lib/python3.9/json/__init__.py:346\u001b[0m, in \u001b[0;36mloads\u001b[0;34m(s, cls, object_hook, parse_float, parse_int, parse_constant, object_pairs_hook, **kw)\u001b[0m\n\u001b[1;32m    341\u001b[0m     s \u001b[38;5;241m=\u001b[39m s\u001b[38;5;241m.\u001b[39mdecode(detect_encoding(s), \u001b[38;5;124m'\u001b[39m\u001b[38;5;124msurrogatepass\u001b[39m\u001b[38;5;124m'\u001b[39m)\n\u001b[1;32m    343\u001b[0m \u001b[38;5;28;01mif\u001b[39;00m (\u001b[38;5;28mcls\u001b[39m \u001b[38;5;129;01mis\u001b[39;00m \u001b[38;5;28;01mNone\u001b[39;00m \u001b[38;5;129;01mand\u001b[39;00m object_hook \u001b[38;5;129;01mis\u001b[39;00m \u001b[38;5;28;01mNone\u001b[39;00m \u001b[38;5;129;01mand\u001b[39;00m\n\u001b[1;32m    344\u001b[0m         parse_int \u001b[38;5;129;01mis\u001b[39;00m \u001b[38;5;28;01mNone\u001b[39;00m \u001b[38;5;129;01mand\u001b[39;00m parse_float \u001b[38;5;129;01mis\u001b[39;00m \u001b[38;5;28;01mNone\u001b[39;00m \u001b[38;5;129;01mand\u001b[39;00m\n\u001b[1;32m    345\u001b[0m         parse_constant \u001b[38;5;129;01mis\u001b[39;00m \u001b[38;5;28;01mNone\u001b[39;00m \u001b[38;5;129;01mand\u001b[39;00m object_pairs_hook \u001b[38;5;129;01mis\u001b[39;00m \u001b[38;5;28;01mNone\u001b[39;00m \u001b[38;5;129;01mand\u001b[39;00m \u001b[38;5;129;01mnot\u001b[39;00m kw):\n\u001b[0;32m--> 346\u001b[0m     \u001b[38;5;28;01mreturn\u001b[39;00m \u001b[43m_default_decoder\u001b[49m\u001b[38;5;241;43m.\u001b[39;49m\u001b[43mdecode\u001b[49m\u001b[43m(\u001b[49m\u001b[43ms\u001b[49m\u001b[43m)\u001b[49m\n\u001b[1;32m    347\u001b[0m \u001b[38;5;28;01mif\u001b[39;00m \u001b[38;5;28mcls\u001b[39m \u001b[38;5;129;01mis\u001b[39;00m \u001b[38;5;28;01mNone\u001b[39;00m:\n\u001b[1;32m    348\u001b[0m     \u001b[38;5;28mcls\u001b[39m \u001b[38;5;241m=\u001b[39m JSONDecoder\n",
      "File \u001b[0;32m~/anaconda3/envs/TestEnv/lib/python3.9/json/decoder.py:337\u001b[0m, in \u001b[0;36mJSONDecoder.decode\u001b[0;34m(self, s, _w)\u001b[0m\n\u001b[1;32m    332\u001b[0m \u001b[38;5;28;01mdef\u001b[39;00m \u001b[38;5;21mdecode\u001b[39m(\u001b[38;5;28mself\u001b[39m, s, _w\u001b[38;5;241m=\u001b[39mWHITESPACE\u001b[38;5;241m.\u001b[39mmatch):\n\u001b[1;32m    333\u001b[0m     \u001b[38;5;124;03m\"\"\"Return the Python representation of ``s`` (a ``str`` instance\u001b[39;00m\n\u001b[1;32m    334\u001b[0m \u001b[38;5;124;03m    containing a JSON document).\u001b[39;00m\n\u001b[1;32m    335\u001b[0m \n\u001b[1;32m    336\u001b[0m \u001b[38;5;124;03m    \"\"\"\u001b[39;00m\n\u001b[0;32m--> 337\u001b[0m     obj, end \u001b[38;5;241m=\u001b[39m \u001b[38;5;28;43mself\u001b[39;49m\u001b[38;5;241;43m.\u001b[39;49m\u001b[43mraw_decode\u001b[49m\u001b[43m(\u001b[49m\u001b[43ms\u001b[49m\u001b[43m,\u001b[49m\u001b[43m \u001b[49m\u001b[43midx\u001b[49m\u001b[38;5;241;43m=\u001b[39;49m\u001b[43m_w\u001b[49m\u001b[43m(\u001b[49m\u001b[43ms\u001b[49m\u001b[43m,\u001b[49m\u001b[43m \u001b[49m\u001b[38;5;241;43m0\u001b[39;49m\u001b[43m)\u001b[49m\u001b[38;5;241;43m.\u001b[39;49m\u001b[43mend\u001b[49m\u001b[43m(\u001b[49m\u001b[43m)\u001b[49m\u001b[43m)\u001b[49m\n\u001b[1;32m    338\u001b[0m     end \u001b[38;5;241m=\u001b[39m _w(s, end)\u001b[38;5;241m.\u001b[39mend()\n\u001b[1;32m    339\u001b[0m     \u001b[38;5;28;01mif\u001b[39;00m end \u001b[38;5;241m!=\u001b[39m \u001b[38;5;28mlen\u001b[39m(s):\n",
      "File \u001b[0;32m~/anaconda3/envs/TestEnv/lib/python3.9/json/decoder.py:355\u001b[0m, in \u001b[0;36mJSONDecoder.raw_decode\u001b[0;34m(self, s, idx)\u001b[0m\n\u001b[1;32m    353\u001b[0m     obj, end \u001b[38;5;241m=\u001b[39m \u001b[38;5;28mself\u001b[39m\u001b[38;5;241m.\u001b[39mscan_once(s, idx)\n\u001b[1;32m    354\u001b[0m \u001b[38;5;28;01mexcept\u001b[39;00m \u001b[38;5;167;01mStopIteration\u001b[39;00m \u001b[38;5;28;01mas\u001b[39;00m err:\n\u001b[0;32m--> 355\u001b[0m     \u001b[38;5;28;01mraise\u001b[39;00m JSONDecodeError(\u001b[38;5;124m\"\u001b[39m\u001b[38;5;124mExpecting value\u001b[39m\u001b[38;5;124m\"\u001b[39m, s, err\u001b[38;5;241m.\u001b[39mvalue) \u001b[38;5;28;01mfrom\u001b[39;00m \u001b[38;5;28mNone\u001b[39m\n\u001b[1;32m    356\u001b[0m \u001b[38;5;28;01mreturn\u001b[39;00m obj, end\n",
      "\u001b[0;31mJSONDecodeError\u001b[0m: Expecting value: line 1 column 2 (char 1)"
     ]
    }
   ],
   "source": [
    "pd.read_csv(join(ACC_DIR,'full_accept_results_en_skills_ESCO.csv'))['en_skills'].map(json.loads)"
   ]
  },
  {
   "cell_type": "code",
   "execution_count": null,
   "metadata": {},
   "outputs": [],
   "source": []
  }
 ],
 "metadata": {
  "accelerator": "GPU",
  "colab": {
   "provenance": []
  },
  "gpuClass": "standard",
  "kernelspec": {
   "display_name": "Python 3 (ipykernel)",
   "language": "python",
   "name": "python3"
  },
  "language_info": {
   "codemirror_mode": {
    "name": "ipython",
    "version": 3
   },
   "file_extension": ".py",
   "mimetype": "text/x-python",
   "name": "python",
   "nbconvert_exporter": "python",
   "pygments_lexer": "ipython3",
   "version": "3.8.16"
  }
 },
 "nbformat": 4,
 "nbformat_minor": 1
}
